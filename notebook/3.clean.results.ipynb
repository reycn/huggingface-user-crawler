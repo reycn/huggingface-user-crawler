{
 "cells": [
  {
   "cell_type": "code",
   "execution_count": 15,
   "metadata": {},
   "outputs": [
    {
     "name": "stdout",
     "output_type": "stream",
     "text": [
      "[pkgman] Installing and importing ['pandas', 'polars', 'rich', 'tqdm', 'requests', 'matplotlib', 'seaborn', 'numpy', 'igraph', 'json', 'pandarallel']...\n",
      "[pkgman] 11 packages have been imported.\n",
      "INFO: Pandarallel will run on 8 workers.\n",
      "INFO: Pandarallel will use standard multiprocessing data transfer (pipe) to transfer data between the main process and workers.\n"
     ]
    }
   ],
   "source": [
    "from pkgman import include\n",
    "include([\"pandas\", \"polars\", \"rich\", \"tqdm\", \"requests\", \"matplotlib\", \"seaborn\", \"numpy\", \"igraph\", \"json\", \"pandarallel\"])\n",
    "\n",
    "pd = pandas\n",
    "pl = polars\n",
    "tqdm = tqdm\n",
    "rq = requests\n",
    "plt = matplotlib.pyplot\n",
    "sns = seaborn\n",
    "np = numpy\n",
    "pp = rich.print\n",
    "ig = igraph\n",
    "pdl = pandarallel.pandarallel\n",
    "pdl.initialize(progress_bar=True, nb_workers=8)"
   ]
  },
  {
   "cell_type": "code",
   "execution_count": 16,
   "metadata": {},
   "outputs": [
    {
     "data": {
      "application/vnd.microsoft.datawrangler.viewer.v0+json": {
       "columns": [
        {
         "name": "index",
         "rawType": "int64",
         "type": "integer"
        },
        {
         "name": "user_id",
         "rawType": "object",
         "type": "string"
        },
        {
         "name": "user_name",
         "rawType": "object",
         "type": "string"
        },
        {
         "name": "user_meta",
         "rawType": "object",
         "type": "string"
        },
        {
         "name": "team",
         "rawType": "object",
         "type": "unknown"
        },
        {
         "name": "follower_amount",
         "rawType": "int64",
         "type": "integer"
        },
        {
         "name": "follower_meta",
         "rawType": "object",
         "type": "unknown"
        },
        {
         "name": "following_amount",
         "rawType": "int64",
         "type": "integer"
        },
        {
         "name": "following_meta",
         "rawType": "object",
         "type": "unknown"
        }
       ],
       "conversionMethod": "pd.DataFrame",
       "ref": "95a135a8-37cc-43e8-b54b-bffc91f1a920",
       "rows": [
        [
         "0",
         "ricardotalavera",
         "Ricardo Talavera",
         "{\"lastUserActivities\":[],\"blogPosts\":[],\"totalBlogPosts\":0,\"canReadDatabase\":false,\"canManageEntities\":false,\"canReadEntities\":false,\"canImpersonate\":false,\"canManageBilling\":false,\"communityScore\":0,\"collections\":[],\"datasets\":[],\"models\":[{\"author\":\"ricardotalavera\",\"authorData\":{\"_id\":\"642db9df1133cabbf82fc8e5\",\"avatarUrl\":\"https://cdn-avatars.huggingface.co/v1/production/uploads/noauth/SjK6nwIKwPgToCmWn3AGC.jpeg\",\"fullname\":\"Ricardo Talavera\",\"name\":\"ricardotalavera\",\"type\":\"user\",\"isPro\":false,\"isHf\":false,\"isHfAdmin\":false,\"isMod\":false},\"downloads\":10,\"gated\":false,\"id\":\"ricardotalavera/aak-bert-base-cased-cpc-ricardo-talavera\",\"availableInferenceProviders\":[],\"lastModified\":\"2023-04-07T15:47:50.000Z\",\"likes\":0,\"pipeline_tag\":\"text-classification\",\"private\":false,\"repoType\":\"model\",\"isLikedByUser\":false,\"widgetOutputUrls\":[]},{\"author\":\"ricardotalavera\",\"authorData\":{\"_id\":\"642db9df1133cabbf82fc8e5\",\"avatarUrl\":\"https://cdn-avatars.huggingface.co/v1/production/uploads/noauth/SjK6nwIKwPgToCmWn3AGC.jpeg\",\"fullname\":\"Ricardo Talavera\",\"name\":\"ricardotalavera\",\"type\":\"user\",\"isPro\":false,\"isHf\":false,\"isHfAdmin\":false,\"isMod\":false},\"downloads\":8,\"gated\":false,\"id\":\"ricardotalavera/aak-distilroberta-base-cpc-ricardo-talavera\",\"availableInferenceProviders\":[],\"lastModified\":\"2023-04-07T03:35:20.000Z\",\"likes\":0,\"pipeline_tag\":\"text-classification\",\"private\":false,\"repoType\":\"model\",\"isLikedByUser\":false,\"widgetOutputUrls\":[]},{\"author\":\"ricardotalavera\",\"authorData\":{\"_id\":\"642db9df1133cabbf82fc8e5\",\"avatarUrl\":\"https://cdn-avatars.huggingface.co/v1/production/uploads/noauth/SjK6nwIKwPgToCmWn3AGC.jpeg\",\"fullname\":\"Ricardo Talavera\",\"name\":\"ricardotalavera\",\"type\":\"user\",\"isPro\":false,\"isHf\":false,\"isHfAdmin\":false,\"isMod\":false},\"downloads\":10,\"gated\":false,\"id\":\"ricardotalavera/aak-distilroberta-base-mrpc-glue-ricardo-talavera\",\"availableInferenceProviders\":[],\"lastModified\":\"2023-04-06T22:41:00.000Z\",\"likes\":0,\"pipeline_tag\":\"text-classification\",\"private\":false,\"repoType\":\"model\",\"isLikedByUser\":false,\"widgetOutputUrls\":[]},{\"author\":\"ricardotalavera\",\"authorData\":{\"_id\":\"642db9df1133cabbf82fc8e5\",\"avatarUrl\":\"https://cdn-avatars.huggingface.co/v1/production/uploads/noauth/SjK6nwIKwPgToCmWn3AGC.jpeg\",\"fullname\":\"Ricardo Talavera\",\"name\":\"ricardotalavera\",\"type\":\"user\",\"isPro\":false,\"isHf\":false,\"isHfAdmin\":false,\"isMod\":false},\"downloads\":10,\"gated\":false,\"id\":\"ricardotalavera/platzi-distilroberta-base-mrpc-glue-ricardo-talavera\",\"availableInferenceProviders\":[],\"lastModified\":\"2023-04-06T03:44:46.000Z\",\"likes\":0,\"pipeline_tag\":\"text-classification\",\"private\":false,\"repoType\":\"model\",\"isLikedByUser\":false,\"widgetOutputUrls\":[]}],\"numberLikes\":0,\"papers\":[],\"posts\":[],\"totalPosts\":0,\"spaces\":[],\"u\":{\"avatarUrl\":\"https://cdn-avatars.huggingface.co/v1/production/uploads/noauth/SjK6nwIKwPgToCmWn3AGC.jpeg\",\"isPro\":false,\"fullname\":\"Ricardo Talavera\",\"user\":\"ricardotalavera\",\"orgs\":[],\"signup\":{\"github\":\"ricardotalavera\"},\"isHf\":false,\"isMod\":false,\"type\":\"user\"},\"upvotes\":0,\"repoFilterModels\":{\"sortKey\":\"modified\"},\"repoFilterDatasets\":{\"sortKey\":\"modified\"},\"repoFilterSpaces\":{\"sortKey\":\"modified\"},\"numFollowers\":0,\"numFollowingUsers\":0,\"numFollowingOrgs\":0,\"isFollowing\":false,\"isFollower\":false,\"sampleFollowers\":[],\"isWatching\":false,\"acceptLanguages\":[\"en\"]}",
         "None yet",
         "0",
         "[]",
         "0",
         "[]"
        ],
        [
         "1",
         "Teetouch",
         "Teetouch Jaknamon",
         "{\"lastUserActivities\":[],\"blogPosts\":[],\"totalBlogPosts\":0,\"canReadDatabase\":false,\"canManageEntities\":false,\"canReadEntities\":false,\"canImpersonate\":false,\"canManageBilling\":false,\"communityScore\":0,\"collections\":[],\"datasets\":[],\"models\":[{\"author\":\"Teetouch\",\"authorData\":{\"_id\":\"620b0b423c0931626a7c92c2\",\"avatarUrl\":\"/avatars/d150cef7965877a88d7400c431c626d7.svg\",\"fullname\":\"Teetouch Jaknamon\",\"name\":\"Teetouch\",\"type\":\"user\",\"isPro\":false,\"isHf\":false,\"isHfAdmin\":false,\"isMod\":false},\"downloads\":0,\"gated\":false,\"id\":\"Teetouch/TEETOUQQ2222-attacut-th-to-en-pt2\",\"availableInferenceProviders\":[],\"lastModified\":\"2022-03-10T17:45:31.000Z\",\"likes\":0,\"private\":false,\"repoType\":\"model\",\"isLikedByUser\":false}],\"numberLikes\":0,\"papers\":[],\"posts\":[],\"totalPosts\":0,\"spaces\":[],\"u\":{\"avatarUrl\":\"/avatars/d150cef7965877a88d7400c431c626d7.svg\",\"isPro\":false,\"fullname\":\"Teetouch Jaknamon\",\"user\":\"Teetouch\",\"orgs\":[],\"signup\":{},\"isHf\":false,\"isMod\":false,\"type\":\"user\"},\"upvotes\":0,\"repoFilterModels\":{\"sortKey\":\"modified\"},\"repoFilterDatasets\":{\"sortKey\":\"modified\"},\"repoFilterSpaces\":{\"sortKey\":\"modified\"},\"numFollowers\":0,\"numFollowingUsers\":0,\"numFollowingOrgs\":0,\"isFollowing\":false,\"isFollower\":false,\"sampleFollowers\":[],\"isWatching\":false,\"acceptLanguages\":[\"en\"]}",
         null,
         "0",
         "[]",
         "0",
         "[]"
        ],
        [
         "2",
         "crossdelenna",
         "Cross",
         "{\"lastUserActivities\":[{\"time\":\"2025-02-28T19:58:00.804Z\",\"user\":\"crossdelenna\",\"userAvatarUrl\":\"/avatars/3fa94f159902cfaeed150ebf076d4c0a.svg\",\"type\":\"publish\",\"repoData\":{\"author\":\"crossdelenna\",\"authorData\":{\"_id\":\"62deff4f332b67bc50057a4f\",\"avatarUrl\":\"/avatars/3fa94f159902cfaeed150ebf076d4c0a.svg\",\"fullname\":\"Cross\",\"name\":\"crossdelenna\",\"type\":\"user\",\"isPro\":false,\"isHf\":false,\"isHfAdmin\":false,\"isMod\":false},\"downloads\":0,\"gated\":false,\"id\":\"crossdelenna/llama_trader\",\"availableInferenceProviders\":[],\"lastModified\":\"2025-02-28T19:58:00.000Z\",\"likes\":0,\"private\":false,\"repoType\":\"model\",\"isLikedByUser\":false},\"repoId\":\"crossdelenna/llama_trader\",\"repoType\":\"model\"},{\"time\":\"2025-02-28T19:57:25.282Z\",\"user\":\"crossdelenna\",\"userAvatarUrl\":\"/avatars/3fa94f159902cfaeed150ebf076d4c0a.svg\",\"type\":\"like\",\"repoData\":{\"author\":\"yymYYM\",\"downloads\":468,\"gated\":false,\"id\":\"yymYYM/stock_trading_QA\",\"lastModified\":\"2024-03-04T03:08:45.000Z\",\"datasetsServerInfo\":{\"viewer\":\"viewer\",\"numRows\":7165,\"libraries\":[\"datasets\",\"pandas\",\"mlcroissant\",\"polars\"],\"formats\":[\"csv\"],\"modalities\":[\"text\"]},\"private\":false,\"repoType\":\"dataset\",\"likes\":21,\"isLikedByUser\":false},\"repoId\":\"yymYYM/stock_trading_QA\",\"repoType\":\"dataset\"},{\"time\":\"2025-02-23T06:48:29.430Z\",\"user\":\"crossdelenna\",\"userAvatarUrl\":\"/avatars/3fa94f159902cfaeed150ebf076d4c0a.svg\",\"type\":\"update\",\"repoData\":{\"author\":\"crossdelenna\",\"authorData\":{\"_id\":\"62deff4f332b67bc50057a4f\",\"avatarUrl\":\"/avatars/3fa94f159902cfaeed150ebf076d4c0a.svg\",\"fullname\":\"Cross\",\"name\":\"crossdelenna\",\"type\":\"user\",\"isPro\":false,\"isHf\":false,\"isHfAdmin\":false,\"isMod\":false},\"downloads\":813,\"gated\":false,\"id\":\"crossdelenna/whisper_med_alex.en\",\"availableInferenceProviders\":[],\"lastModified\":\"2025-02-23T06:48:25.000Z\",\"likes\":0,\"pipeline_tag\":\"automatic-speech-recognition\",\"private\":false,\"repoType\":\"model\",\"isLikedByUser\":false},\"repoId\":\"crossdelenna/whisper_med_alex.en\",\"repoType\":\"model\"}],\"blogPosts\":[],\"totalBlogPosts\":0,\"canReadDatabase\":false,\"canManageEntities\":false,\"canReadEntities\":false,\"canImpersonate\":false,\"canManageBilling\":false,\"communityScore\":2,\"collections\":[],\"datasets\":[{\"author\":\"crossdelenna\",\"downloads\":153,\"gated\":false,\"id\":\"crossdelenna/alex_3110_2025\",\"lastModified\":\"2025-02-21T22:49:49.000Z\",\"datasetsServerInfo\":{\"viewer\":\"viewer\",\"numRows\":3104,\"libraries\":[\"datasets\",\"dask\",\"mlcroissant\",\"polars\"],\"formats\":[\"parquet\"],\"modalities\":[\"audio\",\"text\"]},\"private\":false,\"repoType\":\"dataset\",\"likes\":0,\"isLikedByUser\":false},{\"author\":\"crossdelenna\",\"downloads\":514,\"gated\":false,\"id\":\"crossdelenna/yt_transcribe_2025\",\"lastModified\":\"2025-02-19T07:00:52.000Z\",\"datasetsServerInfo\":{\"viewer\":\"viewer\",\"numRows\":1044,\"libraries\":[\"datasets\",\"dask\",\"mlcroissant\",\"polars\"],\"formats\":[\"parquet\"],\"modalities\":[\"audio\",\"text\"]},\"private\":false,\"repoType\":\"dataset\",\"likes\":0,\"isLikedByUser\":false},{\"author\":\"crossdelenna\",\"downloads\":409,\"gated\":false,\"id\":\"crossdelenna/whisper_data-turbo\",\"lastModified\":\"2024-12-09T19:33:26.000Z\",\"datasetsServerInfo\":{\"viewer\":\"viewer-partial\",\"numRows\":7317,\"libraries\":[\"datasets\",\"dask\",\"mlcroissant\",\"polars\"],\"formats\":[\"parquet\"],\"modalities\":[]},\"private\":false,\"repoType\":\"dataset\",\"likes\":0,\"isLikedByUser\":false},{\"author\":\"crossdelenna\",\"downloads\":46,\"gated\":false,\"id\":\"crossdelenna/whisper_data_merge3\",\"lastModified\":\"2024-07-23T05:49:42.000Z\",\"datasetsServerInfo\":{\"viewer\":\"viewer\",\"numRows\":1325,\"libraries\":[\"datasets\",\"dask\",\"mlcroissant\",\"polars\"],\"formats\":[\"parquet\"],\"modalities\":[]},\"private\":false,\"repoType\":\"dataset\",\"likes\":0,\"isLikedByUser\":false},{\"author\":\"crossdelenna\",\"downloads\":158,\"gated\":false,\"id\":\"crossdelenna/whisper_data_merge2\",\"lastModified\":\"2023-04-17T23:57:05.000Z\",\"datasetsServerInfo\":{\"viewer\":\"viewer-partial\",\"numRows\":6549,\"libraries\":[\"datasets\",\"dask\",\"mlcroissant\",\"polars\"],\"formats\":[\"parquet\"],\"modalities\":[]},\"private\":false,\"repoType\":\"dataset\",\"likes\":0,\"isLikedByUser\":false}],\"models\":[{\"author\":\"crossdelenna\",\"authorData\":{\"_id\":\"62deff4f332b67bc50057a4f\",\"avatarUrl\":\"/avatars/3fa94f159902cfaeed150ebf076d4c0a.svg\",\"fullname\":\"Cross\",\"name\":\"crossdelenna\",\"type\":\"user\",\"isPro\":false,\"isHf\":false,\"isHfAdmin\":false,\"isMod\":false},\"downloads\":0,\"gated\":false,\"id\":\"crossdelenna/llama_trader\",\"availableInferenceProviders\":[],\"lastModified\":\"2025-02-28T19:58:00.000Z\",\"likes\":0,\"private\":false,\"repoType\":\"model\",\"isLikedByUser\":false},{\"author\":\"crossdelenna\",\"authorData\":{\"_id\":\"62deff4f332b67bc50057a4f\",\"avatarUrl\":\"/avatars/3fa94f159902cfaeed150ebf076d4c0a.svg\",\"fullname\":\"Cross\",\"name\":\"crossdelenna\",\"type\":\"user\",\"isPro\":false,\"isHf\":false,\"isHfAdmin\":false,\"isMod\":false},\"downloads\":813,\"gated\":false,\"id\":\"crossdelenna/whisper_med_alex.en\",\"availableInferenceProviders\":[],\"lastModified\":\"2025-02-23T06:48:25.000Z\",\"likes\":0,\"pipeline_tag\":\"automatic-speech-recognition\",\"private\":false,\"repoType\":\"model\",\"isLikedByUser\":false},{\"author\":\"crossdelenna\",\"authorData\":{\"_id\":\"62deff4f332b67bc50057a4f\",\"avatarUrl\":\"/avatars/3fa94f159902cfaeed150ebf076d4c0a.svg\",\"fullname\":\"Cross\",\"name\":\"crossdelenna\",\"type\":\"user\",\"isPro\":false,\"isHf\":false,\"isHfAdmin\":false,\"isMod\":false},\"downloads\":27,\"gated\":false,\"id\":\"crossdelenna/medium_cross.en\",\"availableInferenceProviders\":[],\"lastModified\":\"2025-02-10T19:59:25.000Z\",\"likes\":0,\"pipeline_tag\":\"automatic-speech-recognition\",\"private\":false,\"repoType\":\"model\",\"isLikedByUser\":false},{\"author\":\"crossdelenna\",\"authorData\":{\"_id\":\"62deff4f332b67bc50057a4f\",\"avatarUrl\":\"/avatars/3fa94f159902cfaeed150ebf076d4c0a.svg\",\"fullname\":\"Cross\",\"name\":\"crossdelenna\",\"type\":\"user\",\"isPro\":false,\"isHf\":false,\"isHfAdmin\":false,\"isMod\":false},\"downloads\":5,\"gated\":false,\"id\":\"crossdelenna/whisperturbo\",\"availableInferenceProviders\":[],\"lastModified\":\"2024-12-10T22:18:42.000Z\",\"likes\":0,\"private\":false,\"repoType\":\"model\",\"isLikedByUser\":false},{\"author\":\"crossdelenna\",\"authorData\":{\"_id\":\"62deff4f332b67bc50057a4f\",\"avatarUrl\":\"/avatars/3fa94f159902cfaeed150ebf076d4c0a.svg\",\"fullname\":\"Cross\",\"name\":\"crossdelenna\",\"type\":\"user\",\"isPro\":false,\"isHf\":false,\"isHfAdmin\":false,\"isMod\":false},\"downloads\":0,\"gated\":false,\"id\":\"crossdelenna/whisperturbo.en\",\"availableInferenceProviders\":[],\"lastModified\":\"2024-12-09T20:19:04.000Z\",\"likes\":0,\"private\":false,\"repoType\":\"model\",\"isLikedByUser\":false},{\"author\":\"crossdelenna\",\"authorData\":{\"_id\":\"62deff4f332b67bc50057a4f\",\"avatarUrl\":\"/avatars/3fa94f159902cfaeed150ebf076d4c0a.svg\",\"fullname\":\"Cross\",\"name\":\"crossdelenna\",\"type\":\"user\",\"isPro\":false,\"isHf\":false,\"isHfAdmin\":false,\"isMod\":false},\"downloads\":18,\"gated\":false,\"id\":\"crossdelenna/whisper-medium.en\",\"availableInferenceProviders\":[],\"lastModified\":\"2024-07-20T18:09:25.000Z\",\"likes\":0,\"pipeline_tag\":\"automatic-speech-recognition\",\"private\":false,\"repoType\":\"model\",\"isLikedByUser\":false},{\"author\":\"crossdelenna\",\"authorData\":{\"_id\":\"62deff4f332b67bc50057a4f\",\"avatarUrl\":\"/avatars/3fa94f159902cfaeed150ebf076d4c0a.svg\",\"fullname\":\"Cross\",\"name\":\"crossdelenna\",\"type\":\"user\",\"isPro\":false,\"isHf\":false,\"isHfAdmin\":false,\"isMod\":false},\"downloads\":98,\"gated\":false,\"id\":\"crossdelenna/whisper-small.en\",\"availableInferenceProviders\":[],\"lastModified\":\"2024-07-20T01:55:21.000Z\",\"likes\":0,\"pipeline_tag\":\"automatic-speech-recognition\",\"private\":false,\"repoType\":\"model\",\"isLikedByUser\":false},{\"author\":\"crossdelenna\",\"authorData\":{\"_id\":\"62deff4f332b67bc50057a4f\",\"avatarUrl\":\"/avatars/3fa94f159902cfaeed150ebf076d4c0a.svg\",\"fullname\":\"Cross\",\"name\":\"crossdelenna\",\"type\":\"user\",\"isPro\":false,\"isHf\":false,\"isHfAdmin\":false,\"isMod\":false},\"downloads\":13,\"gated\":false,\"id\":\"crossdelenna/whisper3-small.en\",\"availableInferenceProviders\":[],\"lastModified\":\"2024-07-20T01:45:58.000Z\",\"likes\":0,\"pipeline_tag\":\"automatic-speech-recognition\",\"private\":false,\"repoType\":\"model\",\"isLikedByUser\":false},{\"author\":\"crossdelenna\",\"authorData\":{\"_id\":\"62deff4f332b67bc50057a4f\",\"avatarUrl\":\"/avatars/3fa94f159902cfaeed150ebf076d4c0a.svg\",\"fullname\":\"Cross\",\"name\":\"crossdelenna\",\"type\":\"user\",\"isPro\":false,\"isHf\":false,\"isHfAdmin\":false,\"isMod\":false},\"downloads\":0,\"gated\":false,\"id\":\"crossdelenna/whisper-en-in\",\"availableInferenceProviders\":[],\"lastModified\":\"2023-03-29T23:18:29.000Z\",\"likes\":0,\"private\":false,\"repoType\":\"model\",\"isLikedByUser\":false}],\"numberLikes\":2,\"papers\":[],\"posts\":[],\"totalPosts\":0,\"spaces\":[{\"author\":\"crossdelenna\",\"authorData\":{\"_id\":\"62deff4f332b67bc50057a4f\",\"avatarUrl\":\"/avatars/3fa94f159902cfaeed150ebf076d4c0a.svg\",\"fullname\":\"Cross\",\"name\":\"crossdelenna\",\"type\":\"user\",\"isPro\":false,\"isHf\":false,\"isHfAdmin\":false,\"isMod\":false},\"colorFrom\":\"gray\",\"colorTo\":\"green\",\"createdAt\":\"2022-07-26T05:12:13.000Z\",\"emoji\":\"🔥\",\"id\":\"crossdelenna/wav2vec2-base-en-in\",\"lastModified\":\"2022-07-26T05:17:14.000Z\",\"likes\":0,\"pinned\":false,\"private\":false,\"repoType\":\"space\",\"runtime\":{\"stage\":\"NO_APP_FILE\",\"hardware\":{\"current\":null,\"requested\":\"cpu-basic\"},\"storage\":null,\"gcTimeout\":86400,\"errorMessage\":null,\"replicas\":{\"requested\":1},\"domains\":[{\"domain\":\"crossdelenna-wav2vec2-base-en-in.hf.space\",\"stage\":\"READY\"}]},\"title\":\"Wav2vec2 Base En In\",\"isLikedByUser\":false}],\"u\":{\"avatarUrl\":\"/avatars/3fa94f159902cfaeed150ebf076d4c0a.svg\",\"isPro\":false,\"fullname\":\"Cross\",\"user\":\"crossdelenna\",\"orgs\":[],\"signup\":{\"github\":\"\",\"twitter\":\"\",\"details\":\"ASR, Deep Learning for Finance, LSTM, Attention Algorithms\",\"homepage\":\"\"},\"isHf\":false,\"isMod\":false,\"type\":\"user\"},\"upvotes\":0,\"repoFilterModels\":{\"sortKey\":\"modified\"},\"repoFilterDatasets\":{\"sortKey\":\"modified\"},\"repoFilterSpaces\":{\"sortKey\":\"modified\"},\"numFollowers\":0,\"numFollowingUsers\":0,\"numFollowingOrgs\":1,\"isFollowing\":false,\"isFollower\":false,\"sampleFollowers\":[],\"isWatching\":false,\"acceptLanguages\":[\"en\"]}",
         "\n\t",
         "0",
         "[]",
         "1",
         "[]"
        ],
        [
         "3",
         "orestxherija",
         "Orest Xherija",
         "{\"lastUserActivities\":[],\"blogPosts\":[],\"totalBlogPosts\":0,\"canReadDatabase\":false,\"canManageEntities\":false,\"canReadEntities\":false,\"canImpersonate\":false,\"canManageBilling\":false,\"communityScore\":0,\"collections\":[{\"slug\":\"orestxherija/efficient-training-661fde73da0148fbd9847fc4\",\"title\":\"Efficient Training\",\"gating\":false,\"lastUpdated\":\"2024-04-17T14:36:35.766Z\",\"owner\":{\"_id\":\"629ec8649122a27bff6875c2\",\"avatarUrl\":\"/avatars/4dcad2bb7c32b98a801fe7380116e947.svg\",\"fullname\":\"Orest Xherija\",\"name\":\"orestxherija\",\"type\":\"user\",\"isPro\":false,\"isHf\":false,\"isHfAdmin\":false,\"isMod\":false},\"items\":[{\"_id\":\"661fde73da0148fbd9847fc5\",\"position\":0,\"type\":\"paper\",\"id\":\"2404.02258\",\"title\":\"Mixture-of-Depths: Dynamically allocating compute in transformer-based\\n  language models\",\"thumbnailUrl\":\"https://cdn-thumbnails.huggingface.co/social-thumbnails/papers/2404.02258.png\",\"upvotes\":105,\"publishedAt\":\"2024-04-02T19:28:11.000Z\",\"isUpvotedByUser\":false}],\"position\":0,\"theme\":\"green\",\"private\":false,\"shareUrl\":\"https://huggingface.co/collections/orestxherija/efficient-training-661fde73da0148fbd9847fc4\",\"upvotes\":0,\"isUpvotedByUser\":false}],\"datasets\":[],\"models\":[{\"author\":\"orestxherija\",\"authorData\":{\"_id\":\"629ec8649122a27bff6875c2\",\"avatarUrl\":\"/avatars/4dcad2bb7c32b98a801fe7380116e947.svg\",\"fullname\":\"Orest Xherija\",\"name\":\"orestxherija\",\"type\":\"user\",\"isPro\":false,\"isHf\":false,\"isHfAdmin\":false,\"isMod\":false},\"downloads\":17,\"gated\":false,\"id\":\"orestxherija/roberta-base-adr-smm4h2022\",\"availableInferenceProviders\":[],\"lastModified\":\"2022-08-09T01:34:05.000Z\",\"likes\":0,\"pipeline_tag\":\"text-classification\",\"private\":false,\"repoType\":\"model\",\"isLikedByUser\":false,\"widgetOutputUrls\":[]},{\"author\":\"orestxherija\",\"authorData\":{\"_id\":\"629ec8649122a27bff6875c2\",\"avatarUrl\":\"/avatars/4dcad2bb7c32b98a801fe7380116e947.svg\",\"fullname\":\"Orest Xherija\",\"name\":\"orestxherija\",\"type\":\"user\",\"isPro\":false,\"isHf\":false,\"isHfAdmin\":false,\"isMod\":false},\"downloads\":0,\"gated\":false,\"id\":\"orestxherija/deberta-v3-large-finetuned-finsim4-esg\",\"availableInferenceProviders\":[],\"lastModified\":\"2022-06-15T19:46:48.000Z\",\"likes\":0,\"private\":false,\"repoType\":\"model\",\"isLikedByUser\":false}],\"numberLikes\":7,\"papers\":[],\"posts\":[],\"totalPosts\":0,\"spaces\":[{\"author\":\"orestxherija\",\"authorData\":{\"_id\":\"629ec8649122a27bff6875c2\",\"avatarUrl\":\"/avatars/4dcad2bb7c32b98a801fe7380116e947.svg\",\"fullname\":\"Orest Xherija\",\"name\":\"orestxherija\",\"type\":\"user\",\"isPro\":false,\"isHf\":false,\"isHfAdmin\":false,\"isMod\":false},\"colorFrom\":\"pink\",\"colorTo\":\"pink\",\"createdAt\":\"2022-08-02T02:25:25.000Z\",\"emoji\":\"📈\",\"id\":\"orestxherija/adr-mention-classifier\",\"lastModified\":\"2022-08-02T02:25:25.000Z\",\"likes\":0,\"pinned\":false,\"private\":false,\"repoType\":\"space\",\"runtime\":{\"stage\":\"NO_APP_FILE\",\"hardware\":{\"current\":null,\"requested\":\"cpu-basic\"},\"storage\":null,\"gcTimeout\":86400,\"errorMessage\":null,\"replicas\":{\"requested\":1},\"domains\":[{\"domain\":\"orestxherija-adr-mention-classifier.hf.space\",\"stage\":\"READY\"}]},\"title\":\"Tweet Adr Mention Classifier\",\"isLikedByUser\":false},{\"author\":\"orestxherija\",\"authorData\":{\"_id\":\"629ec8649122a27bff6875c2\",\"avatarUrl\":\"/avatars/4dcad2bb7c32b98a801fe7380116e947.svg\",\"fullname\":\"Orest Xherija\",\"name\":\"orestxherija\",\"type\":\"user\",\"isPro\":false,\"isHf\":false,\"isHfAdmin\":false,\"isMod\":false},\"colorFrom\":\"purple\",\"colorTo\":\"pink\",\"createdAt\":\"2022-06-15T19:51:59.000Z\",\"emoji\":\"🌖\",\"id\":\"orestxherija/sustainability_classifier\",\"lastModified\":\"2022-06-15T19:51:59.000Z\",\"likes\":0,\"pinned\":false,\"private\":false,\"repoType\":\"space\",\"runtime\":{\"stage\":\"NO_APP_FILE\",\"hardware\":{\"current\":null,\"requested\":\"cpu-basic\"},\"storage\":null,\"gcTimeout\":86400,\"errorMessage\":null,\"replicas\":{\"requested\":1},\"domains\":[{\"domain\":\"orestxherija-sustainability-classifier.hf.space\",\"stage\":\"READY\"}]},\"title\":\"Sustainability Classifier\",\"isLikedByUser\":false}],\"u\":{\"avatarUrl\":\"/avatars/4dcad2bb7c32b98a801fe7380116e947.svg\",\"isPro\":false,\"fullname\":\"Orest Xherija\",\"user\":\"orestxherija\",\"orgs\":[],\"signup\":{\"github\":\"orestxherija\"},\"isHf\":false,\"isMod\":false,\"type\":\"user\"},\"upvotes\":1,\"repoFilterModels\":{\"sortKey\":\"modified\"},\"repoFilterDatasets\":{\"sortKey\":\"modified\"},\"repoFilterSpaces\":{\"sortKey\":\"modified\"},\"numFollowers\":0,\"numFollowingUsers\":0,\"numFollowingOrgs\":0,\"isFollowing\":false,\"isFollower\":false,\"sampleFollowers\":[],\"isWatching\":false,\"acceptLanguages\":[\"en\"]}",
         "None yet",
         "0",
         "[]",
         "0",
         "[]"
        ],
        [
         "4",
         "nlptown",
         "NLP Town",
         "{\"lastUserActivities\":[],\"blogPosts\":[],\"totalBlogPosts\":0,\"canReadDatabase\":false,\"canManageEntities\":false,\"canReadEntities\":false,\"canImpersonate\":false,\"canManageBilling\":false,\"communityScore\":5,\"collections\":[],\"datasets\":[],\"models\":[{\"author\":\"nlptown\",\"authorData\":{\"_id\":\"5e033feecbfd036a99df0db1\",\"avatarUrl\":\"https://cdn-avatars.huggingface.co/v1/production/uploads/1648491377527-5e033feecbfd036a99df0db1.png\",\"fullname\":\"NLP Town\",\"name\":\"nlptown\",\"type\":\"user\",\"isPro\":false,\"isHf\":false,\"isHfAdmin\":false,\"isMod\":false,\"followerCount\":23},\"downloads\":1143764,\"gated\":false,\"id\":\"nlptown/bert-base-multilingual-uncased-sentiment\",\"availableInferenceProviders\":[{\"name\":\"hf-inference\",\"modelStatus\":\"live\",\"providerStatus\":\"live\",\"providerId\":\"nlptown/bert-base-multilingual-uncased-sentiment\"}],\"lastModified\":\"2025-01-02T20:13:01.000Z\",\"likes\":358,\"pipeline_tag\":\"text-classification\",\"private\":false,\"repoType\":\"model\",\"isLikedByUser\":false,\"widgetOutputUrls\":[]},{\"author\":\"nlptown\",\"authorData\":{\"_id\":\"5e033feecbfd036a99df0db1\",\"avatarUrl\":\"https://cdn-avatars.huggingface.co/v1/production/uploads/1648491377527-5e033feecbfd036a99df0db1.png\",\"fullname\":\"NLP Town\",\"name\":\"nlptown\",\"type\":\"user\",\"isPro\":false,\"isHf\":false,\"isHfAdmin\":false,\"isMod\":false,\"followerCount\":23},\"downloads\":703,\"gated\":false,\"id\":\"nlptown/flaubert_small_cased_sentiment\",\"availableInferenceProviders\":[],\"lastModified\":\"2022-05-17T07:43:58.000Z\",\"likes\":2,\"pipeline_tag\":\"text-classification\",\"private\":false,\"repoType\":\"model\",\"isLikedByUser\":false,\"widgetOutputUrls\":[]}],\"numberLikes\":3,\"papers\":[],\"posts\":[],\"totalPosts\":0,\"spaces\":[{\"author\":\"nlptown\",\"authorData\":{\"_id\":\"5e033feecbfd036a99df0db1\",\"avatarUrl\":\"https://cdn-avatars.huggingface.co/v1/production/uploads/1648491377527-5e033feecbfd036a99df0db1.png\",\"fullname\":\"NLP Town\",\"name\":\"nlptown\",\"type\":\"user\",\"isPro\":false,\"isHf\":false,\"isHfAdmin\":false,\"isMod\":false,\"followerCount\":23},\"colorFrom\":\"blue\",\"colorTo\":\"yellow\",\"createdAt\":\"2025-01-02T09:45:00.000Z\",\"emoji\":\"📈\",\"id\":\"nlptown/sentiment\",\"lastModified\":\"2025-01-02T14:23:12.000Z\",\"likes\":1,\"pinned\":false,\"private\":false,\"repoType\":\"space\",\"runtime\":{\"stage\":\"RUNNING\",\"hardware\":{\"current\":\"cpu-basic\",\"requested\":\"cpu-basic\"},\"storage\":null,\"gcTimeout\":172800,\"replicas\":{\"current\":1,\"requested\":1},\"devMode\":false,\"domains\":[{\"domain\":\"nlptown-sentiment.hf.space\",\"stage\":\"READY\"}],\"sha\":\"265f31e226f3ed855b0e39fdaf5149e6c9be75c3\"},\"shortDescription\":\"Try out the sentiment analysis models by NLP Town\",\"title\":\"Sentiment\",\"isLikedByUser\":false,\"ai_short_description\":\"Analyze sentiment of text and get star ratings\"}],\"u\":{\"avatarUrl\":\"https://cdn-avatars.huggingface.co/v1/production/uploads/1648491377527-5e033feecbfd036a99df0db1.png\",\"isPro\":false,\"fullname\":\"NLP Town\",\"user\":\"nlptown\",\"orgs\":[],\"signup\":{\"details\":\"We make custom models for specialized NLP applications.\",\"github\":\"nlptown\",\"homepage\":\"https://www.nlp.town\",\"twitter\":\"nlptown\"},\"isHf\":false,\"isMod\":false,\"type\":\"user\"},\"upvotes\":0,\"repoFilterModels\":{\"sortKey\":\"modified\"},\"repoFilterDatasets\":{\"sortKey\":\"modified\"},\"repoFilterSpaces\":{\"sortKey\":\"modified\"},\"numFollowers\":23,\"numFollowingUsers\":0,\"numFollowingOrgs\":0,\"isFollowing\":false,\"isFollower\":false,\"sampleFollowers\":[{\"user\":\"d-delaurier\",\"fullname\":\"David DeLaurier\",\"type\":\"user\",\"_id\":\"64fcb7b19a62bb2791cf3652\",\"isPro\":false,\"avatarUrl\":\"https://cdn-avatars.huggingface.co/v1/production/uploads/no-auth/4XzsMCScpZmjnhbYNmV67.png\"},{\"user\":\"Wauplin\",\"fullname\":\"Lucain Pouget\",\"type\":\"user\",\"_id\":\"6273f303f6d63a28483fde12\",\"isPro\":true,\"avatarUrl\":\"https://cdn-avatars.huggingface.co/v1/production/uploads/1659336880158-6273f303f6d63a28483fde12.png\"},{\"user\":\"lamaa\",\"fullname\":\"Lama\",\"type\":\"user\",\"_id\":\"64fb3cd574574268a54c0606\",\"isPro\":false,\"avatarUrl\":\"/avatars/a24a4ed65ebc1f765e625da7ed0c9a33.svg\"},{\"user\":\"suzhouhesuyang\",\"fullname\":\"Suyang He\",\"type\":\"user\",\"_id\":\"6628a1534e4ebd4896e53923\",\"isPro\":false,\"avatarUrl\":\"/avatars/1ba26575111fd46fdb6c458c37c87a04.svg\"}],\"isWatching\":false,\"acceptLanguages\":[\"en\"]}",
         "We make custom models for specialized NLP applications.",
         "23",
         "[{'user': 'Mohamedelamoury', 'fullname': 'EL AMOURY Mohamed', 'type': 'user', '_id': '67df3d6bb518243a8c1fac26', 'isPro': False, 'avatarUrl': 'https://cdn-avatars.huggingface.co/v1/production/uploads/no-auth/YsvCAbXxZiyxt20Us4aWy.png'}, {'user': 'simarHug', 'fullname': 'Simar MAnsi', 'type': 'user', '_id': '67947e752ec68b41936b8c37', 'isPro': False, 'avatarUrl': '/avatars/93cfe63d5997e6feaead12204bae0feb.svg'}, {'user': 'Wauplin', 'fullname': 'Lucain Pouget', 'type': 'user', '_id': '6273f303f6d63a28483fde12', 'isPro': True, 'avatarUrl': 'https://cdn-avatars.huggingface.co/v1/production/uploads/1659336880158-6273f303f6d63a28483fde12.png'}, {'user': 'fideliskailan', 'fullname': 'Fidelis Akilan', 'type': 'user', '_id': '6712a98258bdba342483bb07', 'isPro': False, 'avatarUrl': 'https://cdn-avatars.huggingface.co/v1/production/uploads/no-auth/NhEMcKkJ4xGPgWUVkyX6z.png'}, {'user': 'l3aroui', 'fullname': 'zakaria elaroui', 'type': 'user', '_id': '676c0c5496427da73ebc22ec', 'isPro': False, 'avatarUrl': 'https://cdn-avatars.huggingface.co/v1/production/uploads/no-auth/-GIqVfNdIaK7r5-wvHRyI.png'}, {'user': 'dani-garcia', 'fullname': 'Dani Garcia', 'type': 'user', '_id': '6562a0321a0c459616db66f6', 'isPro': False, 'avatarUrl': 'https://cdn-avatars.huggingface.co/v1/production/uploads/6562a0321a0c459616db66f6/UqpU7x4xOW7mfCdGcyZnd.jpeg'}, {'user': 'alessandropessoa', 'fullname': 'pessoa', 'type': 'user', '_id': '660364ba527470e0163d0de7', 'isPro': False, 'avatarUrl': 'https://cdn-avatars.huggingface.co/v1/production/uploads/660364ba527470e0163d0de7/FMBJM-l3qIccuIjpJxD6o.jpeg'}, {'user': 'conwaychriscosmo', 'fullname': 'Chris Conway', 'type': 'user', '_id': '66106ae3cfbba5e761bfa3e0', 'isPro': False, 'avatarUrl': '/avatars/93c1bf930a3f4c75b33b6dcfb75ad25e.svg'}, {'user': 'suzhouhesuyang', 'fullname': 'Suyang He', 'type': 'user', '_id': '6628a1534e4ebd4896e53923', 'isPro': False, 'avatarUrl': '/avatars/1ba26575111fd46fdb6c458c37c87a04.svg'}, {'user': 'AAygun', 'fullname': 'Arif Aygun', 'type': 'user', '_id': '65b951ce09d6a0011eb35a48', 'isPro': False, 'avatarUrl': '/avatars/2fe8b9d115246880e939e7a8089efe64.svg'}, {'user': 'OscarBZ', 'fullname': 'oscar ', 'type': 'user', '_id': '6698219ac1d206664c277cee', 'isPro': False, 'avatarUrl': '/avatars/1687ac74b559c47431a46bccf7d5e052.svg'}, {'user': 'd-delaurier', 'fullname': 'David DeLaurier', 'type': 'user', '_id': '64fcb7b19a62bb2791cf3652', 'isPro': False, 'avatarUrl': 'https://cdn-avatars.huggingface.co/v1/production/uploads/no-auth/4XzsMCScpZmjnhbYNmV67.png'}, {'user': 'FabioStefana', 'fullname': 'Fabio Giovanni Stefana', 'type': 'user', '_id': '6616ed8d6b30e9034690dc05', 'isPro': False, 'avatarUrl': '/avatars/3ae95cec657d8760b8d4df412d30c428.svg'}, {'user': 'karlitoxz', 'fullname': 'Juan Romero', 'type': 'user', '_id': '662af2d1f688584a0535eaff', 'isPro': False, 'avatarUrl': '/avatars/32c96f1856c82e7efff0a150e0a509e5.svg'}, {'user': 'lamaa', 'fullname': 'Lama', 'type': 'user', '_id': '64fb3cd574574268a54c0606', 'isPro': False, 'avatarUrl': '/avatars/a24a4ed65ebc1f765e625da7ed0c9a33.svg'}, {'user': 'zeidzen', 'fullname': 'ZEID ZEIN ALABDEEN', 'type': 'user', '_id': '636ebc8ca70dfb0b17cf922e', 'isPro': False, 'avatarUrl': 'https://cdn-avatars.huggingface.co/v1/production/uploads/1668201583500-noauth.jpeg'}, {'user': 'Aexyno', 'fullname': 'Aman Talwar', 'type': 'user', '_id': '6397356c8eabb599f9ce30e9', 'isPro': False, 'avatarUrl': '/avatars/a85a39c9d3c156a7657939a5c4952475.svg'}, {'user': 'tangaza', 'fullname': 'rufai bello tangaza', 'type': 'user', '_id': '6596d1bb40cffd3b1786dc1a', 'isPro': False, 'avatarUrl': '/avatars/7a81fa8a0447385216ea94fa387c949d.svg'}, {'user': 'Etietop', 'fullname': 'Abraham', 'type': 'user', '_id': '63eff31cfc92a63ac8136b04', 'isPro': False, 'avatarUrl': 'https://cdn-avatars.huggingface.co/v1/production/uploads/1676669692705-noauth.jpeg'}, {'user': 'Lokhia', 'fullname': 'Chloé Daudier', 'type': 'user', '_id': '64a1f823422bdee276a61529', 'isPro': False, 'avatarUrl': '/avatars/81159c89f16bb9e2a403bcff8ceb8eb3.svg'}, {'user': 'JOHNELEX', 'fullname': 'MANISH KUMAR', 'type': 'user', '_id': '649012b96fa716cfb25ae112', 'isPro': False, 'avatarUrl': '/avatars/281d229152327888ce0e154bd0ffc3e6.svg'}, {'user': 'k3ybladewielder', 'fullname': 'Alysson Guimarães', 'type': 'user', '_id': '638604149d7b8afb0e809223', 'isPro': False, 'avatarUrl': 'https://cdn-avatars.huggingface.co/v1/production/uploads/638604149d7b8afb0e809223/_mmlrfeKVP9AxEyiTsdGC.jpeg'}, {'user': 'DiegoAR', 'fullname': 'Diego A', 'type': 'user', '_id': '6356a622f6d2d2f012f1b1cd', 'isPro': False, 'avatarUrl': '/avatars/ef41e59c396001e2f6fefbe66919cde3.svg'}]",
         "0",
         "[]"
        ]
       ],
       "shape": {
        "columns": 8,
        "rows": 5
       }
      },
      "text/html": [
       "<div>\n",
       "<style scoped>\n",
       "    .dataframe tbody tr th:only-of-type {\n",
       "        vertical-align: middle;\n",
       "    }\n",
       "\n",
       "    .dataframe tbody tr th {\n",
       "        vertical-align: top;\n",
       "    }\n",
       "\n",
       "    .dataframe thead th {\n",
       "        text-align: right;\n",
       "    }\n",
       "</style>\n",
       "<table border=\"1\" class=\"dataframe\">\n",
       "  <thead>\n",
       "    <tr style=\"text-align: right;\">\n",
       "      <th></th>\n",
       "      <th>user_id</th>\n",
       "      <th>user_name</th>\n",
       "      <th>user_meta</th>\n",
       "      <th>team</th>\n",
       "      <th>follower_amount</th>\n",
       "      <th>follower_meta</th>\n",
       "      <th>following_amount</th>\n",
       "      <th>following_meta</th>\n",
       "    </tr>\n",
       "  </thead>\n",
       "  <tbody>\n",
       "    <tr>\n",
       "      <th>0</th>\n",
       "      <td>ricardotalavera</td>\n",
       "      <td>Ricardo Talavera</td>\n",
       "      <td>{\"lastUserActivities\":[],\"blogPosts\":[],\"total...</td>\n",
       "      <td>None yet</td>\n",
       "      <td>0</td>\n",
       "      <td>[]</td>\n",
       "      <td>0</td>\n",
       "      <td>[]</td>\n",
       "    </tr>\n",
       "    <tr>\n",
       "      <th>1</th>\n",
       "      <td>Teetouch</td>\n",
       "      <td>Teetouch Jaknamon</td>\n",
       "      <td>{\"lastUserActivities\":[],\"blogPosts\":[],\"total...</td>\n",
       "      <td>None</td>\n",
       "      <td>0</td>\n",
       "      <td>[]</td>\n",
       "      <td>0</td>\n",
       "      <td>[]</td>\n",
       "    </tr>\n",
       "    <tr>\n",
       "      <th>2</th>\n",
       "      <td>crossdelenna</td>\n",
       "      <td>Cross</td>\n",
       "      <td>{\"lastUserActivities\":[{\"time\":\"2025-02-28T19:...</td>\n",
       "      <td>\\n\\t</td>\n",
       "      <td>0</td>\n",
       "      <td>[]</td>\n",
       "      <td>1</td>\n",
       "      <td>[]</td>\n",
       "    </tr>\n",
       "    <tr>\n",
       "      <th>3</th>\n",
       "      <td>orestxherija</td>\n",
       "      <td>Orest Xherija</td>\n",
       "      <td>{\"lastUserActivities\":[],\"blogPosts\":[],\"total...</td>\n",
       "      <td>None yet</td>\n",
       "      <td>0</td>\n",
       "      <td>[]</td>\n",
       "      <td>0</td>\n",
       "      <td>[]</td>\n",
       "    </tr>\n",
       "    <tr>\n",
       "      <th>4</th>\n",
       "      <td>nlptown</td>\n",
       "      <td>NLP Town</td>\n",
       "      <td>{\"lastUserActivities\":[],\"blogPosts\":[],\"total...</td>\n",
       "      <td>We make custom models for specialized NLP appl...</td>\n",
       "      <td>23</td>\n",
       "      <td>[{'user': 'Mohamedelamoury', 'fullname': 'EL A...</td>\n",
       "      <td>0</td>\n",
       "      <td>[]</td>\n",
       "    </tr>\n",
       "  </tbody>\n",
       "</table>\n",
       "</div>"
      ],
      "text/plain": [
       "           user_id          user_name  \\\n",
       "0  ricardotalavera   Ricardo Talavera   \n",
       "1         Teetouch  Teetouch Jaknamon   \n",
       "2     crossdelenna              Cross   \n",
       "3     orestxherija      Orest Xherija   \n",
       "4          nlptown           NLP Town   \n",
       "\n",
       "                                           user_meta  \\\n",
       "0  {\"lastUserActivities\":[],\"blogPosts\":[],\"total...   \n",
       "1  {\"lastUserActivities\":[],\"blogPosts\":[],\"total...   \n",
       "2  {\"lastUserActivities\":[{\"time\":\"2025-02-28T19:...   \n",
       "3  {\"lastUserActivities\":[],\"blogPosts\":[],\"total...   \n",
       "4  {\"lastUserActivities\":[],\"blogPosts\":[],\"total...   \n",
       "\n",
       "                                                team  follower_amount  \\\n",
       "0                                           None yet                0   \n",
       "1                                               None                0   \n",
       "2                                               \\n\\t                0   \n",
       "3                                           None yet                0   \n",
       "4  We make custom models for specialized NLP appl...               23   \n",
       "\n",
       "                                       follower_meta  following_amount  \\\n",
       "0                                                 []                 0   \n",
       "1                                                 []                 0   \n",
       "2                                                 []                 1   \n",
       "3                                                 []                 0   \n",
       "4  [{'user': 'Mohamedelamoury', 'fullname': 'EL A...                 0   \n",
       "\n",
       "  following_meta  \n",
       "0             []  \n",
       "1             []  \n",
       "2             []  \n",
       "3             []  \n",
       "4             []  "
      ]
     },
     "execution_count": 16,
     "metadata": {},
     "output_type": "execute_result"
    }
   ],
   "source": [
    "df_path = \"../data/result/users.all.jsonl\"\n",
    "df = pd.read_json(df_path, lines=True)\n",
    "df.head(5)"
   ]
  },
  {
   "cell_type": "code",
   "execution_count": 17,
   "metadata": {},
   "outputs": [
    {
     "data": {
      "text/plain": [
       "{'lastUserActivities': [],\n",
       " 'blogPosts': [],\n",
       " 'totalBlogPosts': 0,\n",
       " 'canReadDatabase': False,\n",
       " 'canManageEntities': False,\n",
       " 'canReadEntities': False,\n",
       " 'canImpersonate': False,\n",
       " 'canManageBilling': False,\n",
       " 'communityScore': 0,\n",
       " 'collections': [],\n",
       " 'datasets': [],\n",
       " 'models': [{'author': 'ricardotalavera',\n",
       "   'authorData': {'_id': '642db9df1133cabbf82fc8e5',\n",
       "    'avatarUrl': 'https://cdn-avatars.huggingface.co/v1/production/uploads/noauth/SjK6nwIKwPgToCmWn3AGC.jpeg',\n",
       "    'fullname': 'Ricardo Talavera',\n",
       "    'name': 'ricardotalavera',\n",
       "    'type': 'user',\n",
       "    'isPro': False,\n",
       "    'isHf': False,\n",
       "    'isHfAdmin': False,\n",
       "    'isMod': False},\n",
       "   'downloads': 10,\n",
       "   'gated': False,\n",
       "   'id': 'ricardotalavera/aak-bert-base-cased-cpc-ricardo-talavera',\n",
       "   'availableInferenceProviders': [],\n",
       "   'lastModified': '2023-04-07T15:47:50.000Z',\n",
       "   'likes': 0,\n",
       "   'pipeline_tag': 'text-classification',\n",
       "   'private': False,\n",
       "   'repoType': 'model',\n",
       "   'isLikedByUser': False,\n",
       "   'widgetOutputUrls': []},\n",
       "  {'author': 'ricardotalavera',\n",
       "   'authorData': {'_id': '642db9df1133cabbf82fc8e5',\n",
       "    'avatarUrl': 'https://cdn-avatars.huggingface.co/v1/production/uploads/noauth/SjK6nwIKwPgToCmWn3AGC.jpeg',\n",
       "    'fullname': 'Ricardo Talavera',\n",
       "    'name': 'ricardotalavera',\n",
       "    'type': 'user',\n",
       "    'isPro': False,\n",
       "    'isHf': False,\n",
       "    'isHfAdmin': False,\n",
       "    'isMod': False},\n",
       "   'downloads': 8,\n",
       "   'gated': False,\n",
       "   'id': 'ricardotalavera/aak-distilroberta-base-cpc-ricardo-talavera',\n",
       "   'availableInferenceProviders': [],\n",
       "   'lastModified': '2023-04-07T03:35:20.000Z',\n",
       "   'likes': 0,\n",
       "   'pipeline_tag': 'text-classification',\n",
       "   'private': False,\n",
       "   'repoType': 'model',\n",
       "   'isLikedByUser': False,\n",
       "   'widgetOutputUrls': []},\n",
       "  {'author': 'ricardotalavera',\n",
       "   'authorData': {'_id': '642db9df1133cabbf82fc8e5',\n",
       "    'avatarUrl': 'https://cdn-avatars.huggingface.co/v1/production/uploads/noauth/SjK6nwIKwPgToCmWn3AGC.jpeg',\n",
       "    'fullname': 'Ricardo Talavera',\n",
       "    'name': 'ricardotalavera',\n",
       "    'type': 'user',\n",
       "    'isPro': False,\n",
       "    'isHf': False,\n",
       "    'isHfAdmin': False,\n",
       "    'isMod': False},\n",
       "   'downloads': 10,\n",
       "   'gated': False,\n",
       "   'id': 'ricardotalavera/aak-distilroberta-base-mrpc-glue-ricardo-talavera',\n",
       "   'availableInferenceProviders': [],\n",
       "   'lastModified': '2023-04-06T22:41:00.000Z',\n",
       "   'likes': 0,\n",
       "   'pipeline_tag': 'text-classification',\n",
       "   'private': False,\n",
       "   'repoType': 'model',\n",
       "   'isLikedByUser': False,\n",
       "   'widgetOutputUrls': []},\n",
       "  {'author': 'ricardotalavera',\n",
       "   'authorData': {'_id': '642db9df1133cabbf82fc8e5',\n",
       "    'avatarUrl': 'https://cdn-avatars.huggingface.co/v1/production/uploads/noauth/SjK6nwIKwPgToCmWn3AGC.jpeg',\n",
       "    'fullname': 'Ricardo Talavera',\n",
       "    'name': 'ricardotalavera',\n",
       "    'type': 'user',\n",
       "    'isPro': False,\n",
       "    'isHf': False,\n",
       "    'isHfAdmin': False,\n",
       "    'isMod': False},\n",
       "   'downloads': 10,\n",
       "   'gated': False,\n",
       "   'id': 'ricardotalavera/platzi-distilroberta-base-mrpc-glue-ricardo-talavera',\n",
       "   'availableInferenceProviders': [],\n",
       "   'lastModified': '2023-04-06T03:44:46.000Z',\n",
       "   'likes': 0,\n",
       "   'pipeline_tag': 'text-classification',\n",
       "   'private': False,\n",
       "   'repoType': 'model',\n",
       "   'isLikedByUser': False,\n",
       "   'widgetOutputUrls': []}],\n",
       " 'numberLikes': 0,\n",
       " 'papers': [],\n",
       " 'posts': [],\n",
       " 'totalPosts': 0,\n",
       " 'spaces': [],\n",
       " 'u': {'avatarUrl': 'https://cdn-avatars.huggingface.co/v1/production/uploads/noauth/SjK6nwIKwPgToCmWn3AGC.jpeg',\n",
       "  'isPro': False,\n",
       "  'fullname': 'Ricardo Talavera',\n",
       "  'user': 'ricardotalavera',\n",
       "  'orgs': [],\n",
       "  'signup': {'github': 'ricardotalavera'},\n",
       "  'isHf': False,\n",
       "  'isMod': False,\n",
       "  'type': 'user'},\n",
       " 'upvotes': 0,\n",
       " 'repoFilterModels': {'sortKey': 'modified'},\n",
       " 'repoFilterDatasets': {'sortKey': 'modified'},\n",
       " 'repoFilterSpaces': {'sortKey': 'modified'},\n",
       " 'numFollowers': 0,\n",
       " 'numFollowingUsers': 0,\n",
       " 'numFollowingOrgs': 0,\n",
       " 'isFollowing': False,\n",
       " 'isFollower': False,\n",
       " 'sampleFollowers': [],\n",
       " 'isWatching': False,\n",
       " 'acceptLanguages': ['en']}"
      ]
     },
     "execution_count": 17,
     "metadata": {},
     "output_type": "execute_result"
    }
   ],
   "source": [
    "json.loads(df[\"user_meta\"][0])"
   ]
  },
  {
   "cell_type": "code",
   "execution_count": 18,
   "metadata": {},
   "outputs": [
    {
     "data": {
      "application/vnd.jupyter.widget-view+json": {
       "model_id": "dc6eee5183da4e359ad99a7194dc8bbc",
       "version_major": 2,
       "version_minor": 0
      },
      "text/plain": [
       "VBox(children=(HBox(children=(IntProgress(value=0, description='0.00%', max=7675), Label(value='0 / 7675'))), …"
      ]
     },
     "metadata": {},
     "output_type": "display_data"
    },
    {
     "data": {
      "application/vnd.jupyter.widget-view+json": {
       "model_id": "2de3ba41d15945f6ae07c3ce05aba9ec",
       "version_major": 2,
       "version_minor": 0
      },
      "text/plain": [
       "VBox(children=(HBox(children=(IntProgress(value=0, description='0.00%', max=7675), Label(value='0 / 7675'))), …"
      ]
     },
     "metadata": {},
     "output_type": "display_data"
    },
    {
     "data": {
      "application/vnd.jupyter.widget-view+json": {
       "model_id": "4dcc8098229b4f2bab9aa60ba13bd555",
       "version_major": 2,
       "version_minor": 0
      },
      "text/plain": [
       "VBox(children=(HBox(children=(IntProgress(value=0, description='0.00%', max=7675), Label(value='0 / 7675'))), …"
      ]
     },
     "metadata": {},
     "output_type": "display_data"
    },
    {
     "data": {
      "application/vnd.jupyter.widget-view+json": {
       "model_id": "4a5aca3d11a141a8b1c0a128433dadca",
       "version_major": 2,
       "version_minor": 0
      },
      "text/plain": [
       "VBox(children=(HBox(children=(IntProgress(value=0, description='0.00%', max=7675), Label(value='0 / 7675'))), …"
      ]
     },
     "metadata": {},
     "output_type": "display_data"
    },
    {
     "data": {
      "application/vnd.jupyter.widget-view+json": {
       "model_id": "68e3cfc53785458997a88233cae71f38",
       "version_major": 2,
       "version_minor": 0
      },
      "text/plain": [
       "VBox(children=(HBox(children=(IntProgress(value=0, description='0.00%', max=7675), Label(value='0 / 7675'))), …"
      ]
     },
     "metadata": {},
     "output_type": "display_data"
    },
    {
     "data": {
      "application/vnd.jupyter.widget-view+json": {
       "model_id": "d502bdf806274ea4adf046cb59f36e3f",
       "version_major": 2,
       "version_minor": 0
      },
      "text/plain": [
       "VBox(children=(HBox(children=(IntProgress(value=0, description='0.00%', max=7675), Label(value='0 / 7675'))), …"
      ]
     },
     "metadata": {},
     "output_type": "display_data"
    },
    {
     "data": {
      "application/vnd.jupyter.widget-view+json": {
       "model_id": "a29eaf30282f400182478eec1f94d320",
       "version_major": 2,
       "version_minor": 0
      },
      "text/plain": [
       "VBox(children=(HBox(children=(IntProgress(value=0, description='0.00%', max=7675), Label(value='0 / 7675'))), …"
      ]
     },
     "metadata": {},
     "output_type": "display_data"
    },
    {
     "data": {
      "application/vnd.jupyter.widget-view+json": {
       "model_id": "d2c13ff2860942a2a5fa7502e8adaa04",
       "version_major": 2,
       "version_minor": 0
      },
      "text/plain": [
       "VBox(children=(HBox(children=(IntProgress(value=0, description='0.00%', max=7675), Label(value='0 / 7675'))), …"
      ]
     },
     "metadata": {},
     "output_type": "display_data"
    },
    {
     "data": {
      "application/vnd.microsoft.datawrangler.viewer.v0+json": {
       "columns": [
        {
         "name": "index",
         "rawType": "int64",
         "type": "integer"
        },
        {
         "name": "user_id",
         "rawType": "object",
         "type": "string"
        },
        {
         "name": "user_name",
         "rawType": "object",
         "type": "string"
        },
        {
         "name": "user_meta",
         "rawType": "object",
         "type": "string"
        },
        {
         "name": "team",
         "rawType": "object",
         "type": "unknown"
        },
        {
         "name": "follower_amount",
         "rawType": "int64",
         "type": "integer"
        },
        {
         "name": "follower_meta",
         "rawType": "object",
         "type": "unknown"
        },
        {
         "name": "following_amount",
         "rawType": "int64",
         "type": "integer"
        },
        {
         "name": "following_meta",
         "rawType": "object",
         "type": "unknown"
        },
        {
         "name": "models",
         "rawType": "object",
         "type": "unknown"
        },
        {
         "name": "models_count",
         "rawType": "int64",
         "type": "integer"
        },
        {
         "name": "datasets",
         "rawType": "object",
         "type": "unknown"
        },
        {
         "name": "datasets_count",
         "rawType": "int64",
         "type": "integer"
        },
        {
         "name": "user_avatar",
         "rawType": "object",
         "type": "string"
        },
        {
         "name": "user_pro",
         "rawType": "object",
         "type": "unknown"
        },
        {
         "name": "orgs",
         "rawType": "object",
         "type": "unknown"
        },
        {
         "name": "accept_languages",
         "rawType": "object",
         "type": "unknown"
        }
       ],
       "conversionMethod": "pd.DataFrame",
       "ref": "49814832-494a-4b4c-b694-9fc12796973f",
       "rows": [
        [
         "0",
         "ricardotalavera",
         "Ricardo Talavera",
         "{\"lastUserActivities\":[],\"blogPosts\":[],\"totalBlogPosts\":0,\"canReadDatabase\":false,\"canManageEntities\":false,\"canReadEntities\":false,\"canImpersonate\":false,\"canManageBilling\":false,\"communityScore\":0,\"collections\":[],\"datasets\":[],\"models\":[{\"author\":\"ricardotalavera\",\"authorData\":{\"_id\":\"642db9df1133cabbf82fc8e5\",\"avatarUrl\":\"https://cdn-avatars.huggingface.co/v1/production/uploads/noauth/SjK6nwIKwPgToCmWn3AGC.jpeg\",\"fullname\":\"Ricardo Talavera\",\"name\":\"ricardotalavera\",\"type\":\"user\",\"isPro\":false,\"isHf\":false,\"isHfAdmin\":false,\"isMod\":false},\"downloads\":10,\"gated\":false,\"id\":\"ricardotalavera/aak-bert-base-cased-cpc-ricardo-talavera\",\"availableInferenceProviders\":[],\"lastModified\":\"2023-04-07T15:47:50.000Z\",\"likes\":0,\"pipeline_tag\":\"text-classification\",\"private\":false,\"repoType\":\"model\",\"isLikedByUser\":false,\"widgetOutputUrls\":[]},{\"author\":\"ricardotalavera\",\"authorData\":{\"_id\":\"642db9df1133cabbf82fc8e5\",\"avatarUrl\":\"https://cdn-avatars.huggingface.co/v1/production/uploads/noauth/SjK6nwIKwPgToCmWn3AGC.jpeg\",\"fullname\":\"Ricardo Talavera\",\"name\":\"ricardotalavera\",\"type\":\"user\",\"isPro\":false,\"isHf\":false,\"isHfAdmin\":false,\"isMod\":false},\"downloads\":8,\"gated\":false,\"id\":\"ricardotalavera/aak-distilroberta-base-cpc-ricardo-talavera\",\"availableInferenceProviders\":[],\"lastModified\":\"2023-04-07T03:35:20.000Z\",\"likes\":0,\"pipeline_tag\":\"text-classification\",\"private\":false,\"repoType\":\"model\",\"isLikedByUser\":false,\"widgetOutputUrls\":[]},{\"author\":\"ricardotalavera\",\"authorData\":{\"_id\":\"642db9df1133cabbf82fc8e5\",\"avatarUrl\":\"https://cdn-avatars.huggingface.co/v1/production/uploads/noauth/SjK6nwIKwPgToCmWn3AGC.jpeg\",\"fullname\":\"Ricardo Talavera\",\"name\":\"ricardotalavera\",\"type\":\"user\",\"isPro\":false,\"isHf\":false,\"isHfAdmin\":false,\"isMod\":false},\"downloads\":10,\"gated\":false,\"id\":\"ricardotalavera/aak-distilroberta-base-mrpc-glue-ricardo-talavera\",\"availableInferenceProviders\":[],\"lastModified\":\"2023-04-06T22:41:00.000Z\",\"likes\":0,\"pipeline_tag\":\"text-classification\",\"private\":false,\"repoType\":\"model\",\"isLikedByUser\":false,\"widgetOutputUrls\":[]},{\"author\":\"ricardotalavera\",\"authorData\":{\"_id\":\"642db9df1133cabbf82fc8e5\",\"avatarUrl\":\"https://cdn-avatars.huggingface.co/v1/production/uploads/noauth/SjK6nwIKwPgToCmWn3AGC.jpeg\",\"fullname\":\"Ricardo Talavera\",\"name\":\"ricardotalavera\",\"type\":\"user\",\"isPro\":false,\"isHf\":false,\"isHfAdmin\":false,\"isMod\":false},\"downloads\":10,\"gated\":false,\"id\":\"ricardotalavera/platzi-distilroberta-base-mrpc-glue-ricardo-talavera\",\"availableInferenceProviders\":[],\"lastModified\":\"2023-04-06T03:44:46.000Z\",\"likes\":0,\"pipeline_tag\":\"text-classification\",\"private\":false,\"repoType\":\"model\",\"isLikedByUser\":false,\"widgetOutputUrls\":[]}],\"numberLikes\":0,\"papers\":[],\"posts\":[],\"totalPosts\":0,\"spaces\":[],\"u\":{\"avatarUrl\":\"https://cdn-avatars.huggingface.co/v1/production/uploads/noauth/SjK6nwIKwPgToCmWn3AGC.jpeg\",\"isPro\":false,\"fullname\":\"Ricardo Talavera\",\"user\":\"ricardotalavera\",\"orgs\":[],\"signup\":{\"github\":\"ricardotalavera\"},\"isHf\":false,\"isMod\":false,\"type\":\"user\"},\"upvotes\":0,\"repoFilterModels\":{\"sortKey\":\"modified\"},\"repoFilterDatasets\":{\"sortKey\":\"modified\"},\"repoFilterSpaces\":{\"sortKey\":\"modified\"},\"numFollowers\":0,\"numFollowingUsers\":0,\"numFollowingOrgs\":0,\"isFollowing\":false,\"isFollower\":false,\"sampleFollowers\":[],\"isWatching\":false,\"acceptLanguages\":[\"en\"]}",
         "None yet",
         "0",
         "[]",
         "0",
         "[]",
         "[{'author': 'ricardotalavera', 'authorData': {'_id': '642db9df1133cabbf82fc8e5', 'avatarUrl': 'https://cdn-avatars.huggingface.co/v1/production/uploads/noauth/SjK6nwIKwPgToCmWn3AGC.jpeg', 'fullname': 'Ricardo Talavera', 'name': 'ricardotalavera', 'type': 'user', 'isPro': False, 'isHf': False, 'isHfAdmin': False, 'isMod': False}, 'downloads': 10, 'gated': False, 'id': 'ricardotalavera/aak-bert-base-cased-cpc-ricardo-talavera', 'availableInferenceProviders': [], 'lastModified': '2023-04-07T15:47:50.000Z', 'likes': 0, 'pipeline_tag': 'text-classification', 'private': False, 'repoType': 'model', 'isLikedByUser': False, 'widgetOutputUrls': []}, {'author': 'ricardotalavera', 'authorData': {'_id': '642db9df1133cabbf82fc8e5', 'avatarUrl': 'https://cdn-avatars.huggingface.co/v1/production/uploads/noauth/SjK6nwIKwPgToCmWn3AGC.jpeg', 'fullname': 'Ricardo Talavera', 'name': 'ricardotalavera', 'type': 'user', 'isPro': False, 'isHf': False, 'isHfAdmin': False, 'isMod': False}, 'downloads': 8, 'gated': False, 'id': 'ricardotalavera/aak-distilroberta-base-cpc-ricardo-talavera', 'availableInferenceProviders': [], 'lastModified': '2023-04-07T03:35:20.000Z', 'likes': 0, 'pipeline_tag': 'text-classification', 'private': False, 'repoType': 'model', 'isLikedByUser': False, 'widgetOutputUrls': []}, {'author': 'ricardotalavera', 'authorData': {'_id': '642db9df1133cabbf82fc8e5', 'avatarUrl': 'https://cdn-avatars.huggingface.co/v1/production/uploads/noauth/SjK6nwIKwPgToCmWn3AGC.jpeg', 'fullname': 'Ricardo Talavera', 'name': 'ricardotalavera', 'type': 'user', 'isPro': False, 'isHf': False, 'isHfAdmin': False, 'isMod': False}, 'downloads': 10, 'gated': False, 'id': 'ricardotalavera/aak-distilroberta-base-mrpc-glue-ricardo-talavera', 'availableInferenceProviders': [], 'lastModified': '2023-04-06T22:41:00.000Z', 'likes': 0, 'pipeline_tag': 'text-classification', 'private': False, 'repoType': 'model', 'isLikedByUser': False, 'widgetOutputUrls': []}, {'author': 'ricardotalavera', 'authorData': {'_id': '642db9df1133cabbf82fc8e5', 'avatarUrl': 'https://cdn-avatars.huggingface.co/v1/production/uploads/noauth/SjK6nwIKwPgToCmWn3AGC.jpeg', 'fullname': 'Ricardo Talavera', 'name': 'ricardotalavera', 'type': 'user', 'isPro': False, 'isHf': False, 'isHfAdmin': False, 'isMod': False}, 'downloads': 10, 'gated': False, 'id': 'ricardotalavera/platzi-distilroberta-base-mrpc-glue-ricardo-talavera', 'availableInferenceProviders': [], 'lastModified': '2023-04-06T03:44:46.000Z', 'likes': 0, 'pipeline_tag': 'text-classification', 'private': False, 'repoType': 'model', 'isLikedByUser': False, 'widgetOutputUrls': []}]",
         "4",
         "[]",
         "0",
         "https://cdn-avatars.huggingface.co/v1/production/uploads/noauth/SjK6nwIKwPgToCmWn3AGC.jpeg",
         "False",
         "[]",
         "['en']"
        ],
        [
         "1",
         "Teetouch",
         "Teetouch Jaknamon",
         "{\"lastUserActivities\":[],\"blogPosts\":[],\"totalBlogPosts\":0,\"canReadDatabase\":false,\"canManageEntities\":false,\"canReadEntities\":false,\"canImpersonate\":false,\"canManageBilling\":false,\"communityScore\":0,\"collections\":[],\"datasets\":[],\"models\":[{\"author\":\"Teetouch\",\"authorData\":{\"_id\":\"620b0b423c0931626a7c92c2\",\"avatarUrl\":\"/avatars/d150cef7965877a88d7400c431c626d7.svg\",\"fullname\":\"Teetouch Jaknamon\",\"name\":\"Teetouch\",\"type\":\"user\",\"isPro\":false,\"isHf\":false,\"isHfAdmin\":false,\"isMod\":false},\"downloads\":0,\"gated\":false,\"id\":\"Teetouch/TEETOUQQ2222-attacut-th-to-en-pt2\",\"availableInferenceProviders\":[],\"lastModified\":\"2022-03-10T17:45:31.000Z\",\"likes\":0,\"private\":false,\"repoType\":\"model\",\"isLikedByUser\":false}],\"numberLikes\":0,\"papers\":[],\"posts\":[],\"totalPosts\":0,\"spaces\":[],\"u\":{\"avatarUrl\":\"/avatars/d150cef7965877a88d7400c431c626d7.svg\",\"isPro\":false,\"fullname\":\"Teetouch Jaknamon\",\"user\":\"Teetouch\",\"orgs\":[],\"signup\":{},\"isHf\":false,\"isMod\":false,\"type\":\"user\"},\"upvotes\":0,\"repoFilterModels\":{\"sortKey\":\"modified\"},\"repoFilterDatasets\":{\"sortKey\":\"modified\"},\"repoFilterSpaces\":{\"sortKey\":\"modified\"},\"numFollowers\":0,\"numFollowingUsers\":0,\"numFollowingOrgs\":0,\"isFollowing\":false,\"isFollower\":false,\"sampleFollowers\":[],\"isWatching\":false,\"acceptLanguages\":[\"en\"]}",
         null,
         "0",
         "[]",
         "0",
         "[]",
         "[{'author': 'Teetouch', 'authorData': {'_id': '620b0b423c0931626a7c92c2', 'avatarUrl': '/avatars/d150cef7965877a88d7400c431c626d7.svg', 'fullname': 'Teetouch Jaknamon', 'name': 'Teetouch', 'type': 'user', 'isPro': False, 'isHf': False, 'isHfAdmin': False, 'isMod': False}, 'downloads': 0, 'gated': False, 'id': 'Teetouch/TEETOUQQ2222-attacut-th-to-en-pt2', 'availableInferenceProviders': [], 'lastModified': '2022-03-10T17:45:31.000Z', 'likes': 0, 'private': False, 'repoType': 'model', 'isLikedByUser': False}]",
         "1",
         "[]",
         "0",
         "/avatars/d150cef7965877a88d7400c431c626d7.svg",
         "False",
         "[]",
         "['en']"
        ],
        [
         "2",
         "crossdelenna",
         "Cross",
         "{\"lastUserActivities\":[{\"time\":\"2025-02-28T19:58:00.804Z\",\"user\":\"crossdelenna\",\"userAvatarUrl\":\"/avatars/3fa94f159902cfaeed150ebf076d4c0a.svg\",\"type\":\"publish\",\"repoData\":{\"author\":\"crossdelenna\",\"authorData\":{\"_id\":\"62deff4f332b67bc50057a4f\",\"avatarUrl\":\"/avatars/3fa94f159902cfaeed150ebf076d4c0a.svg\",\"fullname\":\"Cross\",\"name\":\"crossdelenna\",\"type\":\"user\",\"isPro\":false,\"isHf\":false,\"isHfAdmin\":false,\"isMod\":false},\"downloads\":0,\"gated\":false,\"id\":\"crossdelenna/llama_trader\",\"availableInferenceProviders\":[],\"lastModified\":\"2025-02-28T19:58:00.000Z\",\"likes\":0,\"private\":false,\"repoType\":\"model\",\"isLikedByUser\":false},\"repoId\":\"crossdelenna/llama_trader\",\"repoType\":\"model\"},{\"time\":\"2025-02-28T19:57:25.282Z\",\"user\":\"crossdelenna\",\"userAvatarUrl\":\"/avatars/3fa94f159902cfaeed150ebf076d4c0a.svg\",\"type\":\"like\",\"repoData\":{\"author\":\"yymYYM\",\"downloads\":468,\"gated\":false,\"id\":\"yymYYM/stock_trading_QA\",\"lastModified\":\"2024-03-04T03:08:45.000Z\",\"datasetsServerInfo\":{\"viewer\":\"viewer\",\"numRows\":7165,\"libraries\":[\"datasets\",\"pandas\",\"mlcroissant\",\"polars\"],\"formats\":[\"csv\"],\"modalities\":[\"text\"]},\"private\":false,\"repoType\":\"dataset\",\"likes\":21,\"isLikedByUser\":false},\"repoId\":\"yymYYM/stock_trading_QA\",\"repoType\":\"dataset\"},{\"time\":\"2025-02-23T06:48:29.430Z\",\"user\":\"crossdelenna\",\"userAvatarUrl\":\"/avatars/3fa94f159902cfaeed150ebf076d4c0a.svg\",\"type\":\"update\",\"repoData\":{\"author\":\"crossdelenna\",\"authorData\":{\"_id\":\"62deff4f332b67bc50057a4f\",\"avatarUrl\":\"/avatars/3fa94f159902cfaeed150ebf076d4c0a.svg\",\"fullname\":\"Cross\",\"name\":\"crossdelenna\",\"type\":\"user\",\"isPro\":false,\"isHf\":false,\"isHfAdmin\":false,\"isMod\":false},\"downloads\":813,\"gated\":false,\"id\":\"crossdelenna/whisper_med_alex.en\",\"availableInferenceProviders\":[],\"lastModified\":\"2025-02-23T06:48:25.000Z\",\"likes\":0,\"pipeline_tag\":\"automatic-speech-recognition\",\"private\":false,\"repoType\":\"model\",\"isLikedByUser\":false},\"repoId\":\"crossdelenna/whisper_med_alex.en\",\"repoType\":\"model\"}],\"blogPosts\":[],\"totalBlogPosts\":0,\"canReadDatabase\":false,\"canManageEntities\":false,\"canReadEntities\":false,\"canImpersonate\":false,\"canManageBilling\":false,\"communityScore\":2,\"collections\":[],\"datasets\":[{\"author\":\"crossdelenna\",\"downloads\":153,\"gated\":false,\"id\":\"crossdelenna/alex_3110_2025\",\"lastModified\":\"2025-02-21T22:49:49.000Z\",\"datasetsServerInfo\":{\"viewer\":\"viewer\",\"numRows\":3104,\"libraries\":[\"datasets\",\"dask\",\"mlcroissant\",\"polars\"],\"formats\":[\"parquet\"],\"modalities\":[\"audio\",\"text\"]},\"private\":false,\"repoType\":\"dataset\",\"likes\":0,\"isLikedByUser\":false},{\"author\":\"crossdelenna\",\"downloads\":514,\"gated\":false,\"id\":\"crossdelenna/yt_transcribe_2025\",\"lastModified\":\"2025-02-19T07:00:52.000Z\",\"datasetsServerInfo\":{\"viewer\":\"viewer\",\"numRows\":1044,\"libraries\":[\"datasets\",\"dask\",\"mlcroissant\",\"polars\"],\"formats\":[\"parquet\"],\"modalities\":[\"audio\",\"text\"]},\"private\":false,\"repoType\":\"dataset\",\"likes\":0,\"isLikedByUser\":false},{\"author\":\"crossdelenna\",\"downloads\":409,\"gated\":false,\"id\":\"crossdelenna/whisper_data-turbo\",\"lastModified\":\"2024-12-09T19:33:26.000Z\",\"datasetsServerInfo\":{\"viewer\":\"viewer-partial\",\"numRows\":7317,\"libraries\":[\"datasets\",\"dask\",\"mlcroissant\",\"polars\"],\"formats\":[\"parquet\"],\"modalities\":[]},\"private\":false,\"repoType\":\"dataset\",\"likes\":0,\"isLikedByUser\":false},{\"author\":\"crossdelenna\",\"downloads\":46,\"gated\":false,\"id\":\"crossdelenna/whisper_data_merge3\",\"lastModified\":\"2024-07-23T05:49:42.000Z\",\"datasetsServerInfo\":{\"viewer\":\"viewer\",\"numRows\":1325,\"libraries\":[\"datasets\",\"dask\",\"mlcroissant\",\"polars\"],\"formats\":[\"parquet\"],\"modalities\":[]},\"private\":false,\"repoType\":\"dataset\",\"likes\":0,\"isLikedByUser\":false},{\"author\":\"crossdelenna\",\"downloads\":158,\"gated\":false,\"id\":\"crossdelenna/whisper_data_merge2\",\"lastModified\":\"2023-04-17T23:57:05.000Z\",\"datasetsServerInfo\":{\"viewer\":\"viewer-partial\",\"numRows\":6549,\"libraries\":[\"datasets\",\"dask\",\"mlcroissant\",\"polars\"],\"formats\":[\"parquet\"],\"modalities\":[]},\"private\":false,\"repoType\":\"dataset\",\"likes\":0,\"isLikedByUser\":false}],\"models\":[{\"author\":\"crossdelenna\",\"authorData\":{\"_id\":\"62deff4f332b67bc50057a4f\",\"avatarUrl\":\"/avatars/3fa94f159902cfaeed150ebf076d4c0a.svg\",\"fullname\":\"Cross\",\"name\":\"crossdelenna\",\"type\":\"user\",\"isPro\":false,\"isHf\":false,\"isHfAdmin\":false,\"isMod\":false},\"downloads\":0,\"gated\":false,\"id\":\"crossdelenna/llama_trader\",\"availableInferenceProviders\":[],\"lastModified\":\"2025-02-28T19:58:00.000Z\",\"likes\":0,\"private\":false,\"repoType\":\"model\",\"isLikedByUser\":false},{\"author\":\"crossdelenna\",\"authorData\":{\"_id\":\"62deff4f332b67bc50057a4f\",\"avatarUrl\":\"/avatars/3fa94f159902cfaeed150ebf076d4c0a.svg\",\"fullname\":\"Cross\",\"name\":\"crossdelenna\",\"type\":\"user\",\"isPro\":false,\"isHf\":false,\"isHfAdmin\":false,\"isMod\":false},\"downloads\":813,\"gated\":false,\"id\":\"crossdelenna/whisper_med_alex.en\",\"availableInferenceProviders\":[],\"lastModified\":\"2025-02-23T06:48:25.000Z\",\"likes\":0,\"pipeline_tag\":\"automatic-speech-recognition\",\"private\":false,\"repoType\":\"model\",\"isLikedByUser\":false},{\"author\":\"crossdelenna\",\"authorData\":{\"_id\":\"62deff4f332b67bc50057a4f\",\"avatarUrl\":\"/avatars/3fa94f159902cfaeed150ebf076d4c0a.svg\",\"fullname\":\"Cross\",\"name\":\"crossdelenna\",\"type\":\"user\",\"isPro\":false,\"isHf\":false,\"isHfAdmin\":false,\"isMod\":false},\"downloads\":27,\"gated\":false,\"id\":\"crossdelenna/medium_cross.en\",\"availableInferenceProviders\":[],\"lastModified\":\"2025-02-10T19:59:25.000Z\",\"likes\":0,\"pipeline_tag\":\"automatic-speech-recognition\",\"private\":false,\"repoType\":\"model\",\"isLikedByUser\":false},{\"author\":\"crossdelenna\",\"authorData\":{\"_id\":\"62deff4f332b67bc50057a4f\",\"avatarUrl\":\"/avatars/3fa94f159902cfaeed150ebf076d4c0a.svg\",\"fullname\":\"Cross\",\"name\":\"crossdelenna\",\"type\":\"user\",\"isPro\":false,\"isHf\":false,\"isHfAdmin\":false,\"isMod\":false},\"downloads\":5,\"gated\":false,\"id\":\"crossdelenna/whisperturbo\",\"availableInferenceProviders\":[],\"lastModified\":\"2024-12-10T22:18:42.000Z\",\"likes\":0,\"private\":false,\"repoType\":\"model\",\"isLikedByUser\":false},{\"author\":\"crossdelenna\",\"authorData\":{\"_id\":\"62deff4f332b67bc50057a4f\",\"avatarUrl\":\"/avatars/3fa94f159902cfaeed150ebf076d4c0a.svg\",\"fullname\":\"Cross\",\"name\":\"crossdelenna\",\"type\":\"user\",\"isPro\":false,\"isHf\":false,\"isHfAdmin\":false,\"isMod\":false},\"downloads\":0,\"gated\":false,\"id\":\"crossdelenna/whisperturbo.en\",\"availableInferenceProviders\":[],\"lastModified\":\"2024-12-09T20:19:04.000Z\",\"likes\":0,\"private\":false,\"repoType\":\"model\",\"isLikedByUser\":false},{\"author\":\"crossdelenna\",\"authorData\":{\"_id\":\"62deff4f332b67bc50057a4f\",\"avatarUrl\":\"/avatars/3fa94f159902cfaeed150ebf076d4c0a.svg\",\"fullname\":\"Cross\",\"name\":\"crossdelenna\",\"type\":\"user\",\"isPro\":false,\"isHf\":false,\"isHfAdmin\":false,\"isMod\":false},\"downloads\":18,\"gated\":false,\"id\":\"crossdelenna/whisper-medium.en\",\"availableInferenceProviders\":[],\"lastModified\":\"2024-07-20T18:09:25.000Z\",\"likes\":0,\"pipeline_tag\":\"automatic-speech-recognition\",\"private\":false,\"repoType\":\"model\",\"isLikedByUser\":false},{\"author\":\"crossdelenna\",\"authorData\":{\"_id\":\"62deff4f332b67bc50057a4f\",\"avatarUrl\":\"/avatars/3fa94f159902cfaeed150ebf076d4c0a.svg\",\"fullname\":\"Cross\",\"name\":\"crossdelenna\",\"type\":\"user\",\"isPro\":false,\"isHf\":false,\"isHfAdmin\":false,\"isMod\":false},\"downloads\":98,\"gated\":false,\"id\":\"crossdelenna/whisper-small.en\",\"availableInferenceProviders\":[],\"lastModified\":\"2024-07-20T01:55:21.000Z\",\"likes\":0,\"pipeline_tag\":\"automatic-speech-recognition\",\"private\":false,\"repoType\":\"model\",\"isLikedByUser\":false},{\"author\":\"crossdelenna\",\"authorData\":{\"_id\":\"62deff4f332b67bc50057a4f\",\"avatarUrl\":\"/avatars/3fa94f159902cfaeed150ebf076d4c0a.svg\",\"fullname\":\"Cross\",\"name\":\"crossdelenna\",\"type\":\"user\",\"isPro\":false,\"isHf\":false,\"isHfAdmin\":false,\"isMod\":false},\"downloads\":13,\"gated\":false,\"id\":\"crossdelenna/whisper3-small.en\",\"availableInferenceProviders\":[],\"lastModified\":\"2024-07-20T01:45:58.000Z\",\"likes\":0,\"pipeline_tag\":\"automatic-speech-recognition\",\"private\":false,\"repoType\":\"model\",\"isLikedByUser\":false},{\"author\":\"crossdelenna\",\"authorData\":{\"_id\":\"62deff4f332b67bc50057a4f\",\"avatarUrl\":\"/avatars/3fa94f159902cfaeed150ebf076d4c0a.svg\",\"fullname\":\"Cross\",\"name\":\"crossdelenna\",\"type\":\"user\",\"isPro\":false,\"isHf\":false,\"isHfAdmin\":false,\"isMod\":false},\"downloads\":0,\"gated\":false,\"id\":\"crossdelenna/whisper-en-in\",\"availableInferenceProviders\":[],\"lastModified\":\"2023-03-29T23:18:29.000Z\",\"likes\":0,\"private\":false,\"repoType\":\"model\",\"isLikedByUser\":false}],\"numberLikes\":2,\"papers\":[],\"posts\":[],\"totalPosts\":0,\"spaces\":[{\"author\":\"crossdelenna\",\"authorData\":{\"_id\":\"62deff4f332b67bc50057a4f\",\"avatarUrl\":\"/avatars/3fa94f159902cfaeed150ebf076d4c0a.svg\",\"fullname\":\"Cross\",\"name\":\"crossdelenna\",\"type\":\"user\",\"isPro\":false,\"isHf\":false,\"isHfAdmin\":false,\"isMod\":false},\"colorFrom\":\"gray\",\"colorTo\":\"green\",\"createdAt\":\"2022-07-26T05:12:13.000Z\",\"emoji\":\"🔥\",\"id\":\"crossdelenna/wav2vec2-base-en-in\",\"lastModified\":\"2022-07-26T05:17:14.000Z\",\"likes\":0,\"pinned\":false,\"private\":false,\"repoType\":\"space\",\"runtime\":{\"stage\":\"NO_APP_FILE\",\"hardware\":{\"current\":null,\"requested\":\"cpu-basic\"},\"storage\":null,\"gcTimeout\":86400,\"errorMessage\":null,\"replicas\":{\"requested\":1},\"domains\":[{\"domain\":\"crossdelenna-wav2vec2-base-en-in.hf.space\",\"stage\":\"READY\"}]},\"title\":\"Wav2vec2 Base En In\",\"isLikedByUser\":false}],\"u\":{\"avatarUrl\":\"/avatars/3fa94f159902cfaeed150ebf076d4c0a.svg\",\"isPro\":false,\"fullname\":\"Cross\",\"user\":\"crossdelenna\",\"orgs\":[],\"signup\":{\"github\":\"\",\"twitter\":\"\",\"details\":\"ASR, Deep Learning for Finance, LSTM, Attention Algorithms\",\"homepage\":\"\"},\"isHf\":false,\"isMod\":false,\"type\":\"user\"},\"upvotes\":0,\"repoFilterModels\":{\"sortKey\":\"modified\"},\"repoFilterDatasets\":{\"sortKey\":\"modified\"},\"repoFilterSpaces\":{\"sortKey\":\"modified\"},\"numFollowers\":0,\"numFollowingUsers\":0,\"numFollowingOrgs\":1,\"isFollowing\":false,\"isFollower\":false,\"sampleFollowers\":[],\"isWatching\":false,\"acceptLanguages\":[\"en\"]}",
         "\n\t",
         "0",
         "[]",
         "1",
         "[]",
         "[{'author': 'crossdelenna', 'authorData': {'_id': '62deff4f332b67bc50057a4f', 'avatarUrl': '/avatars/3fa94f159902cfaeed150ebf076d4c0a.svg', 'fullname': 'Cross', 'name': 'crossdelenna', 'type': 'user', 'isPro': False, 'isHf': False, 'isHfAdmin': False, 'isMod': False}, 'downloads': 0, 'gated': False, 'id': 'crossdelenna/llama_trader', 'availableInferenceProviders': [], 'lastModified': '2025-02-28T19:58:00.000Z', 'likes': 0, 'private': False, 'repoType': 'model', 'isLikedByUser': False}, {'author': 'crossdelenna', 'authorData': {'_id': '62deff4f332b67bc50057a4f', 'avatarUrl': '/avatars/3fa94f159902cfaeed150ebf076d4c0a.svg', 'fullname': 'Cross', 'name': 'crossdelenna', 'type': 'user', 'isPro': False, 'isHf': False, 'isHfAdmin': False, 'isMod': False}, 'downloads': 813, 'gated': False, 'id': 'crossdelenna/whisper_med_alex.en', 'availableInferenceProviders': [], 'lastModified': '2025-02-23T06:48:25.000Z', 'likes': 0, 'pipeline_tag': 'automatic-speech-recognition', 'private': False, 'repoType': 'model', 'isLikedByUser': False}, {'author': 'crossdelenna', 'authorData': {'_id': '62deff4f332b67bc50057a4f', 'avatarUrl': '/avatars/3fa94f159902cfaeed150ebf076d4c0a.svg', 'fullname': 'Cross', 'name': 'crossdelenna', 'type': 'user', 'isPro': False, 'isHf': False, 'isHfAdmin': False, 'isMod': False}, 'downloads': 27, 'gated': False, 'id': 'crossdelenna/medium_cross.en', 'availableInferenceProviders': [], 'lastModified': '2025-02-10T19:59:25.000Z', 'likes': 0, 'pipeline_tag': 'automatic-speech-recognition', 'private': False, 'repoType': 'model', 'isLikedByUser': False}, {'author': 'crossdelenna', 'authorData': {'_id': '62deff4f332b67bc50057a4f', 'avatarUrl': '/avatars/3fa94f159902cfaeed150ebf076d4c0a.svg', 'fullname': 'Cross', 'name': 'crossdelenna', 'type': 'user', 'isPro': False, 'isHf': False, 'isHfAdmin': False, 'isMod': False}, 'downloads': 5, 'gated': False, 'id': 'crossdelenna/whisperturbo', 'availableInferenceProviders': [], 'lastModified': '2024-12-10T22:18:42.000Z', 'likes': 0, 'private': False, 'repoType': 'model', 'isLikedByUser': False}, {'author': 'crossdelenna', 'authorData': {'_id': '62deff4f332b67bc50057a4f', 'avatarUrl': '/avatars/3fa94f159902cfaeed150ebf076d4c0a.svg', 'fullname': 'Cross', 'name': 'crossdelenna', 'type': 'user', 'isPro': False, 'isHf': False, 'isHfAdmin': False, 'isMod': False}, 'downloads': 0, 'gated': False, 'id': 'crossdelenna/whisperturbo.en', 'availableInferenceProviders': [], 'lastModified': '2024-12-09T20:19:04.000Z', 'likes': 0, 'private': False, 'repoType': 'model', 'isLikedByUser': False}, {'author': 'crossdelenna', 'authorData': {'_id': '62deff4f332b67bc50057a4f', 'avatarUrl': '/avatars/3fa94f159902cfaeed150ebf076d4c0a.svg', 'fullname': 'Cross', 'name': 'crossdelenna', 'type': 'user', 'isPro': False, 'isHf': False, 'isHfAdmin': False, 'isMod': False}, 'downloads': 18, 'gated': False, 'id': 'crossdelenna/whisper-medium.en', 'availableInferenceProviders': [], 'lastModified': '2024-07-20T18:09:25.000Z', 'likes': 0, 'pipeline_tag': 'automatic-speech-recognition', 'private': False, 'repoType': 'model', 'isLikedByUser': False}, {'author': 'crossdelenna', 'authorData': {'_id': '62deff4f332b67bc50057a4f', 'avatarUrl': '/avatars/3fa94f159902cfaeed150ebf076d4c0a.svg', 'fullname': 'Cross', 'name': 'crossdelenna', 'type': 'user', 'isPro': False, 'isHf': False, 'isHfAdmin': False, 'isMod': False}, 'downloads': 98, 'gated': False, 'id': 'crossdelenna/whisper-small.en', 'availableInferenceProviders': [], 'lastModified': '2024-07-20T01:55:21.000Z', 'likes': 0, 'pipeline_tag': 'automatic-speech-recognition', 'private': False, 'repoType': 'model', 'isLikedByUser': False}, {'author': 'crossdelenna', 'authorData': {'_id': '62deff4f332b67bc50057a4f', 'avatarUrl': '/avatars/3fa94f159902cfaeed150ebf076d4c0a.svg', 'fullname': 'Cross', 'name': 'crossdelenna', 'type': 'user', 'isPro': False, 'isHf': False, 'isHfAdmin': False, 'isMod': False}, 'downloads': 13, 'gated': False, 'id': 'crossdelenna/whisper3-small.en', 'availableInferenceProviders': [], 'lastModified': '2024-07-20T01:45:58.000Z', 'likes': 0, 'pipeline_tag': 'automatic-speech-recognition', 'private': False, 'repoType': 'model', 'isLikedByUser': False}, {'author': 'crossdelenna', 'authorData': {'_id': '62deff4f332b67bc50057a4f', 'avatarUrl': '/avatars/3fa94f159902cfaeed150ebf076d4c0a.svg', 'fullname': 'Cross', 'name': 'crossdelenna', 'type': 'user', 'isPro': False, 'isHf': False, 'isHfAdmin': False, 'isMod': False}, 'downloads': 0, 'gated': False, 'id': 'crossdelenna/whisper-en-in', 'availableInferenceProviders': [], 'lastModified': '2023-03-29T23:18:29.000Z', 'likes': 0, 'private': False, 'repoType': 'model', 'isLikedByUser': False}]",
         "9",
         "[{'author': 'crossdelenna', 'downloads': 153, 'gated': False, 'id': 'crossdelenna/alex_3110_2025', 'lastModified': '2025-02-21T22:49:49.000Z', 'datasetsServerInfo': {'viewer': 'viewer', 'numRows': 3104, 'libraries': ['datasets', 'dask', 'mlcroissant', 'polars'], 'formats': ['parquet'], 'modalities': ['audio', 'text']}, 'private': False, 'repoType': 'dataset', 'likes': 0, 'isLikedByUser': False}, {'author': 'crossdelenna', 'downloads': 514, 'gated': False, 'id': 'crossdelenna/yt_transcribe_2025', 'lastModified': '2025-02-19T07:00:52.000Z', 'datasetsServerInfo': {'viewer': 'viewer', 'numRows': 1044, 'libraries': ['datasets', 'dask', 'mlcroissant', 'polars'], 'formats': ['parquet'], 'modalities': ['audio', 'text']}, 'private': False, 'repoType': 'dataset', 'likes': 0, 'isLikedByUser': False}, {'author': 'crossdelenna', 'downloads': 409, 'gated': False, 'id': 'crossdelenna/whisper_data-turbo', 'lastModified': '2024-12-09T19:33:26.000Z', 'datasetsServerInfo': {'viewer': 'viewer-partial', 'numRows': 7317, 'libraries': ['datasets', 'dask', 'mlcroissant', 'polars'], 'formats': ['parquet'], 'modalities': []}, 'private': False, 'repoType': 'dataset', 'likes': 0, 'isLikedByUser': False}, {'author': 'crossdelenna', 'downloads': 46, 'gated': False, 'id': 'crossdelenna/whisper_data_merge3', 'lastModified': '2024-07-23T05:49:42.000Z', 'datasetsServerInfo': {'viewer': 'viewer', 'numRows': 1325, 'libraries': ['datasets', 'dask', 'mlcroissant', 'polars'], 'formats': ['parquet'], 'modalities': []}, 'private': False, 'repoType': 'dataset', 'likes': 0, 'isLikedByUser': False}, {'author': 'crossdelenna', 'downloads': 158, 'gated': False, 'id': 'crossdelenna/whisper_data_merge2', 'lastModified': '2023-04-17T23:57:05.000Z', 'datasetsServerInfo': {'viewer': 'viewer-partial', 'numRows': 6549, 'libraries': ['datasets', 'dask', 'mlcroissant', 'polars'], 'formats': ['parquet'], 'modalities': []}, 'private': False, 'repoType': 'dataset', 'likes': 0, 'isLikedByUser': False}]",
         "5",
         "/avatars/3fa94f159902cfaeed150ebf076d4c0a.svg",
         "False",
         "[]",
         "['en']"
        ],
        [
         "3",
         "orestxherija",
         "Orest Xherija",
         "{\"lastUserActivities\":[],\"blogPosts\":[],\"totalBlogPosts\":0,\"canReadDatabase\":false,\"canManageEntities\":false,\"canReadEntities\":false,\"canImpersonate\":false,\"canManageBilling\":false,\"communityScore\":0,\"collections\":[{\"slug\":\"orestxherija/efficient-training-661fde73da0148fbd9847fc4\",\"title\":\"Efficient Training\",\"gating\":false,\"lastUpdated\":\"2024-04-17T14:36:35.766Z\",\"owner\":{\"_id\":\"629ec8649122a27bff6875c2\",\"avatarUrl\":\"/avatars/4dcad2bb7c32b98a801fe7380116e947.svg\",\"fullname\":\"Orest Xherija\",\"name\":\"orestxherija\",\"type\":\"user\",\"isPro\":false,\"isHf\":false,\"isHfAdmin\":false,\"isMod\":false},\"items\":[{\"_id\":\"661fde73da0148fbd9847fc5\",\"position\":0,\"type\":\"paper\",\"id\":\"2404.02258\",\"title\":\"Mixture-of-Depths: Dynamically allocating compute in transformer-based\\n  language models\",\"thumbnailUrl\":\"https://cdn-thumbnails.huggingface.co/social-thumbnails/papers/2404.02258.png\",\"upvotes\":105,\"publishedAt\":\"2024-04-02T19:28:11.000Z\",\"isUpvotedByUser\":false}],\"position\":0,\"theme\":\"green\",\"private\":false,\"shareUrl\":\"https://huggingface.co/collections/orestxherija/efficient-training-661fde73da0148fbd9847fc4\",\"upvotes\":0,\"isUpvotedByUser\":false}],\"datasets\":[],\"models\":[{\"author\":\"orestxherija\",\"authorData\":{\"_id\":\"629ec8649122a27bff6875c2\",\"avatarUrl\":\"/avatars/4dcad2bb7c32b98a801fe7380116e947.svg\",\"fullname\":\"Orest Xherija\",\"name\":\"orestxherija\",\"type\":\"user\",\"isPro\":false,\"isHf\":false,\"isHfAdmin\":false,\"isMod\":false},\"downloads\":17,\"gated\":false,\"id\":\"orestxherija/roberta-base-adr-smm4h2022\",\"availableInferenceProviders\":[],\"lastModified\":\"2022-08-09T01:34:05.000Z\",\"likes\":0,\"pipeline_tag\":\"text-classification\",\"private\":false,\"repoType\":\"model\",\"isLikedByUser\":false,\"widgetOutputUrls\":[]},{\"author\":\"orestxherija\",\"authorData\":{\"_id\":\"629ec8649122a27bff6875c2\",\"avatarUrl\":\"/avatars/4dcad2bb7c32b98a801fe7380116e947.svg\",\"fullname\":\"Orest Xherija\",\"name\":\"orestxherija\",\"type\":\"user\",\"isPro\":false,\"isHf\":false,\"isHfAdmin\":false,\"isMod\":false},\"downloads\":0,\"gated\":false,\"id\":\"orestxherija/deberta-v3-large-finetuned-finsim4-esg\",\"availableInferenceProviders\":[],\"lastModified\":\"2022-06-15T19:46:48.000Z\",\"likes\":0,\"private\":false,\"repoType\":\"model\",\"isLikedByUser\":false}],\"numberLikes\":7,\"papers\":[],\"posts\":[],\"totalPosts\":0,\"spaces\":[{\"author\":\"orestxherija\",\"authorData\":{\"_id\":\"629ec8649122a27bff6875c2\",\"avatarUrl\":\"/avatars/4dcad2bb7c32b98a801fe7380116e947.svg\",\"fullname\":\"Orest Xherija\",\"name\":\"orestxherija\",\"type\":\"user\",\"isPro\":false,\"isHf\":false,\"isHfAdmin\":false,\"isMod\":false},\"colorFrom\":\"pink\",\"colorTo\":\"pink\",\"createdAt\":\"2022-08-02T02:25:25.000Z\",\"emoji\":\"📈\",\"id\":\"orestxherija/adr-mention-classifier\",\"lastModified\":\"2022-08-02T02:25:25.000Z\",\"likes\":0,\"pinned\":false,\"private\":false,\"repoType\":\"space\",\"runtime\":{\"stage\":\"NO_APP_FILE\",\"hardware\":{\"current\":null,\"requested\":\"cpu-basic\"},\"storage\":null,\"gcTimeout\":86400,\"errorMessage\":null,\"replicas\":{\"requested\":1},\"domains\":[{\"domain\":\"orestxherija-adr-mention-classifier.hf.space\",\"stage\":\"READY\"}]},\"title\":\"Tweet Adr Mention Classifier\",\"isLikedByUser\":false},{\"author\":\"orestxherija\",\"authorData\":{\"_id\":\"629ec8649122a27bff6875c2\",\"avatarUrl\":\"/avatars/4dcad2bb7c32b98a801fe7380116e947.svg\",\"fullname\":\"Orest Xherija\",\"name\":\"orestxherija\",\"type\":\"user\",\"isPro\":false,\"isHf\":false,\"isHfAdmin\":false,\"isMod\":false},\"colorFrom\":\"purple\",\"colorTo\":\"pink\",\"createdAt\":\"2022-06-15T19:51:59.000Z\",\"emoji\":\"🌖\",\"id\":\"orestxherija/sustainability_classifier\",\"lastModified\":\"2022-06-15T19:51:59.000Z\",\"likes\":0,\"pinned\":false,\"private\":false,\"repoType\":\"space\",\"runtime\":{\"stage\":\"NO_APP_FILE\",\"hardware\":{\"current\":null,\"requested\":\"cpu-basic\"},\"storage\":null,\"gcTimeout\":86400,\"errorMessage\":null,\"replicas\":{\"requested\":1},\"domains\":[{\"domain\":\"orestxherija-sustainability-classifier.hf.space\",\"stage\":\"READY\"}]},\"title\":\"Sustainability Classifier\",\"isLikedByUser\":false}],\"u\":{\"avatarUrl\":\"/avatars/4dcad2bb7c32b98a801fe7380116e947.svg\",\"isPro\":false,\"fullname\":\"Orest Xherija\",\"user\":\"orestxherija\",\"orgs\":[],\"signup\":{\"github\":\"orestxherija\"},\"isHf\":false,\"isMod\":false,\"type\":\"user\"},\"upvotes\":1,\"repoFilterModels\":{\"sortKey\":\"modified\"},\"repoFilterDatasets\":{\"sortKey\":\"modified\"},\"repoFilterSpaces\":{\"sortKey\":\"modified\"},\"numFollowers\":0,\"numFollowingUsers\":0,\"numFollowingOrgs\":0,\"isFollowing\":false,\"isFollower\":false,\"sampleFollowers\":[],\"isWatching\":false,\"acceptLanguages\":[\"en\"]}",
         "None yet",
         "0",
         "[]",
         "0",
         "[]",
         "[{'author': 'orestxherija', 'authorData': {'_id': '629ec8649122a27bff6875c2', 'avatarUrl': '/avatars/4dcad2bb7c32b98a801fe7380116e947.svg', 'fullname': 'Orest Xherija', 'name': 'orestxherija', 'type': 'user', 'isPro': False, 'isHf': False, 'isHfAdmin': False, 'isMod': False}, 'downloads': 17, 'gated': False, 'id': 'orestxherija/roberta-base-adr-smm4h2022', 'availableInferenceProviders': [], 'lastModified': '2022-08-09T01:34:05.000Z', 'likes': 0, 'pipeline_tag': 'text-classification', 'private': False, 'repoType': 'model', 'isLikedByUser': False, 'widgetOutputUrls': []}, {'author': 'orestxherija', 'authorData': {'_id': '629ec8649122a27bff6875c2', 'avatarUrl': '/avatars/4dcad2bb7c32b98a801fe7380116e947.svg', 'fullname': 'Orest Xherija', 'name': 'orestxherija', 'type': 'user', 'isPro': False, 'isHf': False, 'isHfAdmin': False, 'isMod': False}, 'downloads': 0, 'gated': False, 'id': 'orestxherija/deberta-v3-large-finetuned-finsim4-esg', 'availableInferenceProviders': [], 'lastModified': '2022-06-15T19:46:48.000Z', 'likes': 0, 'private': False, 'repoType': 'model', 'isLikedByUser': False}]",
         "2",
         "[]",
         "0",
         "/avatars/4dcad2bb7c32b98a801fe7380116e947.svg",
         "False",
         "[]",
         "['en']"
        ],
        [
         "4",
         "nlptown",
         "NLP Town",
         "{\"lastUserActivities\":[],\"blogPosts\":[],\"totalBlogPosts\":0,\"canReadDatabase\":false,\"canManageEntities\":false,\"canReadEntities\":false,\"canImpersonate\":false,\"canManageBilling\":false,\"communityScore\":5,\"collections\":[],\"datasets\":[],\"models\":[{\"author\":\"nlptown\",\"authorData\":{\"_id\":\"5e033feecbfd036a99df0db1\",\"avatarUrl\":\"https://cdn-avatars.huggingface.co/v1/production/uploads/1648491377527-5e033feecbfd036a99df0db1.png\",\"fullname\":\"NLP Town\",\"name\":\"nlptown\",\"type\":\"user\",\"isPro\":false,\"isHf\":false,\"isHfAdmin\":false,\"isMod\":false,\"followerCount\":23},\"downloads\":1143764,\"gated\":false,\"id\":\"nlptown/bert-base-multilingual-uncased-sentiment\",\"availableInferenceProviders\":[{\"name\":\"hf-inference\",\"modelStatus\":\"live\",\"providerStatus\":\"live\",\"providerId\":\"nlptown/bert-base-multilingual-uncased-sentiment\"}],\"lastModified\":\"2025-01-02T20:13:01.000Z\",\"likes\":358,\"pipeline_tag\":\"text-classification\",\"private\":false,\"repoType\":\"model\",\"isLikedByUser\":false,\"widgetOutputUrls\":[]},{\"author\":\"nlptown\",\"authorData\":{\"_id\":\"5e033feecbfd036a99df0db1\",\"avatarUrl\":\"https://cdn-avatars.huggingface.co/v1/production/uploads/1648491377527-5e033feecbfd036a99df0db1.png\",\"fullname\":\"NLP Town\",\"name\":\"nlptown\",\"type\":\"user\",\"isPro\":false,\"isHf\":false,\"isHfAdmin\":false,\"isMod\":false,\"followerCount\":23},\"downloads\":703,\"gated\":false,\"id\":\"nlptown/flaubert_small_cased_sentiment\",\"availableInferenceProviders\":[],\"lastModified\":\"2022-05-17T07:43:58.000Z\",\"likes\":2,\"pipeline_tag\":\"text-classification\",\"private\":false,\"repoType\":\"model\",\"isLikedByUser\":false,\"widgetOutputUrls\":[]}],\"numberLikes\":3,\"papers\":[],\"posts\":[],\"totalPosts\":0,\"spaces\":[{\"author\":\"nlptown\",\"authorData\":{\"_id\":\"5e033feecbfd036a99df0db1\",\"avatarUrl\":\"https://cdn-avatars.huggingface.co/v1/production/uploads/1648491377527-5e033feecbfd036a99df0db1.png\",\"fullname\":\"NLP Town\",\"name\":\"nlptown\",\"type\":\"user\",\"isPro\":false,\"isHf\":false,\"isHfAdmin\":false,\"isMod\":false,\"followerCount\":23},\"colorFrom\":\"blue\",\"colorTo\":\"yellow\",\"createdAt\":\"2025-01-02T09:45:00.000Z\",\"emoji\":\"📈\",\"id\":\"nlptown/sentiment\",\"lastModified\":\"2025-01-02T14:23:12.000Z\",\"likes\":1,\"pinned\":false,\"private\":false,\"repoType\":\"space\",\"runtime\":{\"stage\":\"RUNNING\",\"hardware\":{\"current\":\"cpu-basic\",\"requested\":\"cpu-basic\"},\"storage\":null,\"gcTimeout\":172800,\"replicas\":{\"current\":1,\"requested\":1},\"devMode\":false,\"domains\":[{\"domain\":\"nlptown-sentiment.hf.space\",\"stage\":\"READY\"}],\"sha\":\"265f31e226f3ed855b0e39fdaf5149e6c9be75c3\"},\"shortDescription\":\"Try out the sentiment analysis models by NLP Town\",\"title\":\"Sentiment\",\"isLikedByUser\":false,\"ai_short_description\":\"Analyze sentiment of text and get star ratings\"}],\"u\":{\"avatarUrl\":\"https://cdn-avatars.huggingface.co/v1/production/uploads/1648491377527-5e033feecbfd036a99df0db1.png\",\"isPro\":false,\"fullname\":\"NLP Town\",\"user\":\"nlptown\",\"orgs\":[],\"signup\":{\"details\":\"We make custom models for specialized NLP applications.\",\"github\":\"nlptown\",\"homepage\":\"https://www.nlp.town\",\"twitter\":\"nlptown\"},\"isHf\":false,\"isMod\":false,\"type\":\"user\"},\"upvotes\":0,\"repoFilterModels\":{\"sortKey\":\"modified\"},\"repoFilterDatasets\":{\"sortKey\":\"modified\"},\"repoFilterSpaces\":{\"sortKey\":\"modified\"},\"numFollowers\":23,\"numFollowingUsers\":0,\"numFollowingOrgs\":0,\"isFollowing\":false,\"isFollower\":false,\"sampleFollowers\":[{\"user\":\"d-delaurier\",\"fullname\":\"David DeLaurier\",\"type\":\"user\",\"_id\":\"64fcb7b19a62bb2791cf3652\",\"isPro\":false,\"avatarUrl\":\"https://cdn-avatars.huggingface.co/v1/production/uploads/no-auth/4XzsMCScpZmjnhbYNmV67.png\"},{\"user\":\"Wauplin\",\"fullname\":\"Lucain Pouget\",\"type\":\"user\",\"_id\":\"6273f303f6d63a28483fde12\",\"isPro\":true,\"avatarUrl\":\"https://cdn-avatars.huggingface.co/v1/production/uploads/1659336880158-6273f303f6d63a28483fde12.png\"},{\"user\":\"lamaa\",\"fullname\":\"Lama\",\"type\":\"user\",\"_id\":\"64fb3cd574574268a54c0606\",\"isPro\":false,\"avatarUrl\":\"/avatars/a24a4ed65ebc1f765e625da7ed0c9a33.svg\"},{\"user\":\"suzhouhesuyang\",\"fullname\":\"Suyang He\",\"type\":\"user\",\"_id\":\"6628a1534e4ebd4896e53923\",\"isPro\":false,\"avatarUrl\":\"/avatars/1ba26575111fd46fdb6c458c37c87a04.svg\"}],\"isWatching\":false,\"acceptLanguages\":[\"en\"]}",
         "We make custom models for specialized NLP applications.",
         "23",
         "[{'user': 'Mohamedelamoury', 'fullname': 'EL AMOURY Mohamed', 'type': 'user', '_id': '67df3d6bb518243a8c1fac26', 'isPro': False, 'avatarUrl': 'https://cdn-avatars.huggingface.co/v1/production/uploads/no-auth/YsvCAbXxZiyxt20Us4aWy.png'}, {'user': 'simarHug', 'fullname': 'Simar MAnsi', 'type': 'user', '_id': '67947e752ec68b41936b8c37', 'isPro': False, 'avatarUrl': '/avatars/93cfe63d5997e6feaead12204bae0feb.svg'}, {'user': 'Wauplin', 'fullname': 'Lucain Pouget', 'type': 'user', '_id': '6273f303f6d63a28483fde12', 'isPro': True, 'avatarUrl': 'https://cdn-avatars.huggingface.co/v1/production/uploads/1659336880158-6273f303f6d63a28483fde12.png'}, {'user': 'fideliskailan', 'fullname': 'Fidelis Akilan', 'type': 'user', '_id': '6712a98258bdba342483bb07', 'isPro': False, 'avatarUrl': 'https://cdn-avatars.huggingface.co/v1/production/uploads/no-auth/NhEMcKkJ4xGPgWUVkyX6z.png'}, {'user': 'l3aroui', 'fullname': 'zakaria elaroui', 'type': 'user', '_id': '676c0c5496427da73ebc22ec', 'isPro': False, 'avatarUrl': 'https://cdn-avatars.huggingface.co/v1/production/uploads/no-auth/-GIqVfNdIaK7r5-wvHRyI.png'}, {'user': 'dani-garcia', 'fullname': 'Dani Garcia', 'type': 'user', '_id': '6562a0321a0c459616db66f6', 'isPro': False, 'avatarUrl': 'https://cdn-avatars.huggingface.co/v1/production/uploads/6562a0321a0c459616db66f6/UqpU7x4xOW7mfCdGcyZnd.jpeg'}, {'user': 'alessandropessoa', 'fullname': 'pessoa', 'type': 'user', '_id': '660364ba527470e0163d0de7', 'isPro': False, 'avatarUrl': 'https://cdn-avatars.huggingface.co/v1/production/uploads/660364ba527470e0163d0de7/FMBJM-l3qIccuIjpJxD6o.jpeg'}, {'user': 'conwaychriscosmo', 'fullname': 'Chris Conway', 'type': 'user', '_id': '66106ae3cfbba5e761bfa3e0', 'isPro': False, 'avatarUrl': '/avatars/93c1bf930a3f4c75b33b6dcfb75ad25e.svg'}, {'user': 'suzhouhesuyang', 'fullname': 'Suyang He', 'type': 'user', '_id': '6628a1534e4ebd4896e53923', 'isPro': False, 'avatarUrl': '/avatars/1ba26575111fd46fdb6c458c37c87a04.svg'}, {'user': 'AAygun', 'fullname': 'Arif Aygun', 'type': 'user', '_id': '65b951ce09d6a0011eb35a48', 'isPro': False, 'avatarUrl': '/avatars/2fe8b9d115246880e939e7a8089efe64.svg'}, {'user': 'OscarBZ', 'fullname': 'oscar ', 'type': 'user', '_id': '6698219ac1d206664c277cee', 'isPro': False, 'avatarUrl': '/avatars/1687ac74b559c47431a46bccf7d5e052.svg'}, {'user': 'd-delaurier', 'fullname': 'David DeLaurier', 'type': 'user', '_id': '64fcb7b19a62bb2791cf3652', 'isPro': False, 'avatarUrl': 'https://cdn-avatars.huggingface.co/v1/production/uploads/no-auth/4XzsMCScpZmjnhbYNmV67.png'}, {'user': 'FabioStefana', 'fullname': 'Fabio Giovanni Stefana', 'type': 'user', '_id': '6616ed8d6b30e9034690dc05', 'isPro': False, 'avatarUrl': '/avatars/3ae95cec657d8760b8d4df412d30c428.svg'}, {'user': 'karlitoxz', 'fullname': 'Juan Romero', 'type': 'user', '_id': '662af2d1f688584a0535eaff', 'isPro': False, 'avatarUrl': '/avatars/32c96f1856c82e7efff0a150e0a509e5.svg'}, {'user': 'lamaa', 'fullname': 'Lama', 'type': 'user', '_id': '64fb3cd574574268a54c0606', 'isPro': False, 'avatarUrl': '/avatars/a24a4ed65ebc1f765e625da7ed0c9a33.svg'}, {'user': 'zeidzen', 'fullname': 'ZEID ZEIN ALABDEEN', 'type': 'user', '_id': '636ebc8ca70dfb0b17cf922e', 'isPro': False, 'avatarUrl': 'https://cdn-avatars.huggingface.co/v1/production/uploads/1668201583500-noauth.jpeg'}, {'user': 'Aexyno', 'fullname': 'Aman Talwar', 'type': 'user', '_id': '6397356c8eabb599f9ce30e9', 'isPro': False, 'avatarUrl': '/avatars/a85a39c9d3c156a7657939a5c4952475.svg'}, {'user': 'tangaza', 'fullname': 'rufai bello tangaza', 'type': 'user', '_id': '6596d1bb40cffd3b1786dc1a', 'isPro': False, 'avatarUrl': '/avatars/7a81fa8a0447385216ea94fa387c949d.svg'}, {'user': 'Etietop', 'fullname': 'Abraham', 'type': 'user', '_id': '63eff31cfc92a63ac8136b04', 'isPro': False, 'avatarUrl': 'https://cdn-avatars.huggingface.co/v1/production/uploads/1676669692705-noauth.jpeg'}, {'user': 'Lokhia', 'fullname': 'Chloé Daudier', 'type': 'user', '_id': '64a1f823422bdee276a61529', 'isPro': False, 'avatarUrl': '/avatars/81159c89f16bb9e2a403bcff8ceb8eb3.svg'}, {'user': 'JOHNELEX', 'fullname': 'MANISH KUMAR', 'type': 'user', '_id': '649012b96fa716cfb25ae112', 'isPro': False, 'avatarUrl': '/avatars/281d229152327888ce0e154bd0ffc3e6.svg'}, {'user': 'k3ybladewielder', 'fullname': 'Alysson Guimarães', 'type': 'user', '_id': '638604149d7b8afb0e809223', 'isPro': False, 'avatarUrl': 'https://cdn-avatars.huggingface.co/v1/production/uploads/638604149d7b8afb0e809223/_mmlrfeKVP9AxEyiTsdGC.jpeg'}, {'user': 'DiegoAR', 'fullname': 'Diego A', 'type': 'user', '_id': '6356a622f6d2d2f012f1b1cd', 'isPro': False, 'avatarUrl': '/avatars/ef41e59c396001e2f6fefbe66919cde3.svg'}]",
         "0",
         "[]",
         "[{'author': 'nlptown', 'authorData': {'_id': '5e033feecbfd036a99df0db1', 'avatarUrl': 'https://cdn-avatars.huggingface.co/v1/production/uploads/1648491377527-5e033feecbfd036a99df0db1.png', 'fullname': 'NLP Town', 'name': 'nlptown', 'type': 'user', 'isPro': False, 'isHf': False, 'isHfAdmin': False, 'isMod': False, 'followerCount': 23}, 'downloads': 1143764, 'gated': False, 'id': 'nlptown/bert-base-multilingual-uncased-sentiment', 'availableInferenceProviders': [{'name': 'hf-inference', 'modelStatus': 'live', 'providerStatus': 'live', 'providerId': 'nlptown/bert-base-multilingual-uncased-sentiment'}], 'lastModified': '2025-01-02T20:13:01.000Z', 'likes': 358, 'pipeline_tag': 'text-classification', 'private': False, 'repoType': 'model', 'isLikedByUser': False, 'widgetOutputUrls': []}, {'author': 'nlptown', 'authorData': {'_id': '5e033feecbfd036a99df0db1', 'avatarUrl': 'https://cdn-avatars.huggingface.co/v1/production/uploads/1648491377527-5e033feecbfd036a99df0db1.png', 'fullname': 'NLP Town', 'name': 'nlptown', 'type': 'user', 'isPro': False, 'isHf': False, 'isHfAdmin': False, 'isMod': False, 'followerCount': 23}, 'downloads': 703, 'gated': False, 'id': 'nlptown/flaubert_small_cased_sentiment', 'availableInferenceProviders': [], 'lastModified': '2022-05-17T07:43:58.000Z', 'likes': 2, 'pipeline_tag': 'text-classification', 'private': False, 'repoType': 'model', 'isLikedByUser': False, 'widgetOutputUrls': []}]",
         "2",
         "[]",
         "0",
         "https://cdn-avatars.huggingface.co/v1/production/uploads/1648491377527-5e033feecbfd036a99df0db1.png",
         "False",
         "[]",
         "['en']"
        ]
       ],
       "shape": {
        "columns": 16,
        "rows": 5
       }
      },
      "text/html": [
       "<div>\n",
       "<style scoped>\n",
       "    .dataframe tbody tr th:only-of-type {\n",
       "        vertical-align: middle;\n",
       "    }\n",
       "\n",
       "    .dataframe tbody tr th {\n",
       "        vertical-align: top;\n",
       "    }\n",
       "\n",
       "    .dataframe thead th {\n",
       "        text-align: right;\n",
       "    }\n",
       "</style>\n",
       "<table border=\"1\" class=\"dataframe\">\n",
       "  <thead>\n",
       "    <tr style=\"text-align: right;\">\n",
       "      <th></th>\n",
       "      <th>user_id</th>\n",
       "      <th>user_name</th>\n",
       "      <th>user_meta</th>\n",
       "      <th>team</th>\n",
       "      <th>follower_amount</th>\n",
       "      <th>follower_meta</th>\n",
       "      <th>following_amount</th>\n",
       "      <th>following_meta</th>\n",
       "      <th>models</th>\n",
       "      <th>models_count</th>\n",
       "      <th>datasets</th>\n",
       "      <th>datasets_count</th>\n",
       "      <th>user_avatar</th>\n",
       "      <th>user_pro</th>\n",
       "      <th>orgs</th>\n",
       "      <th>accept_languages</th>\n",
       "    </tr>\n",
       "  </thead>\n",
       "  <tbody>\n",
       "    <tr>\n",
       "      <th>0</th>\n",
       "      <td>ricardotalavera</td>\n",
       "      <td>Ricardo Talavera</td>\n",
       "      <td>{\"lastUserActivities\":[],\"blogPosts\":[],\"total...</td>\n",
       "      <td>None yet</td>\n",
       "      <td>0</td>\n",
       "      <td>[]</td>\n",
       "      <td>0</td>\n",
       "      <td>[]</td>\n",
       "      <td>[{'author': 'ricardotalavera', 'authorData': {...</td>\n",
       "      <td>4</td>\n",
       "      <td>[]</td>\n",
       "      <td>0</td>\n",
       "      <td>https://cdn-avatars.huggingface.co/v1/producti...</td>\n",
       "      <td>False</td>\n",
       "      <td>[]</td>\n",
       "      <td>[en]</td>\n",
       "    </tr>\n",
       "    <tr>\n",
       "      <th>1</th>\n",
       "      <td>Teetouch</td>\n",
       "      <td>Teetouch Jaknamon</td>\n",
       "      <td>{\"lastUserActivities\":[],\"blogPosts\":[],\"total...</td>\n",
       "      <td>None</td>\n",
       "      <td>0</td>\n",
       "      <td>[]</td>\n",
       "      <td>0</td>\n",
       "      <td>[]</td>\n",
       "      <td>[{'author': 'Teetouch', 'authorData': {'_id': ...</td>\n",
       "      <td>1</td>\n",
       "      <td>[]</td>\n",
       "      <td>0</td>\n",
       "      <td>/avatars/d150cef7965877a88d7400c431c626d7.svg</td>\n",
       "      <td>False</td>\n",
       "      <td>[]</td>\n",
       "      <td>[en]</td>\n",
       "    </tr>\n",
       "    <tr>\n",
       "      <th>2</th>\n",
       "      <td>crossdelenna</td>\n",
       "      <td>Cross</td>\n",
       "      <td>{\"lastUserActivities\":[{\"time\":\"2025-02-28T19:...</td>\n",
       "      <td>\\n\\t</td>\n",
       "      <td>0</td>\n",
       "      <td>[]</td>\n",
       "      <td>1</td>\n",
       "      <td>[]</td>\n",
       "      <td>[{'author': 'crossdelenna', 'authorData': {'_i...</td>\n",
       "      <td>9</td>\n",
       "      <td>[{'author': 'crossdelenna', 'downloads': 153, ...</td>\n",
       "      <td>5</td>\n",
       "      <td>/avatars/3fa94f159902cfaeed150ebf076d4c0a.svg</td>\n",
       "      <td>False</td>\n",
       "      <td>[]</td>\n",
       "      <td>[en]</td>\n",
       "    </tr>\n",
       "    <tr>\n",
       "      <th>3</th>\n",
       "      <td>orestxherija</td>\n",
       "      <td>Orest Xherija</td>\n",
       "      <td>{\"lastUserActivities\":[],\"blogPosts\":[],\"total...</td>\n",
       "      <td>None yet</td>\n",
       "      <td>0</td>\n",
       "      <td>[]</td>\n",
       "      <td>0</td>\n",
       "      <td>[]</td>\n",
       "      <td>[{'author': 'orestxherija', 'authorData': {'_i...</td>\n",
       "      <td>2</td>\n",
       "      <td>[]</td>\n",
       "      <td>0</td>\n",
       "      <td>/avatars/4dcad2bb7c32b98a801fe7380116e947.svg</td>\n",
       "      <td>False</td>\n",
       "      <td>[]</td>\n",
       "      <td>[en]</td>\n",
       "    </tr>\n",
       "    <tr>\n",
       "      <th>4</th>\n",
       "      <td>nlptown</td>\n",
       "      <td>NLP Town</td>\n",
       "      <td>{\"lastUserActivities\":[],\"blogPosts\":[],\"total...</td>\n",
       "      <td>We make custom models for specialized NLP appl...</td>\n",
       "      <td>23</td>\n",
       "      <td>[{'user': 'Mohamedelamoury', 'fullname': 'EL A...</td>\n",
       "      <td>0</td>\n",
       "      <td>[]</td>\n",
       "      <td>[{'author': 'nlptown', 'authorData': {'_id': '...</td>\n",
       "      <td>2</td>\n",
       "      <td>[]</td>\n",
       "      <td>0</td>\n",
       "      <td>https://cdn-avatars.huggingface.co/v1/producti...</td>\n",
       "      <td>False</td>\n",
       "      <td>[]</td>\n",
       "      <td>[en]</td>\n",
       "    </tr>\n",
       "  </tbody>\n",
       "</table>\n",
       "</div>"
      ],
      "text/plain": [
       "           user_id          user_name  \\\n",
       "0  ricardotalavera   Ricardo Talavera   \n",
       "1         Teetouch  Teetouch Jaknamon   \n",
       "2     crossdelenna              Cross   \n",
       "3     orestxherija      Orest Xherija   \n",
       "4          nlptown           NLP Town   \n",
       "\n",
       "                                           user_meta  \\\n",
       "0  {\"lastUserActivities\":[],\"blogPosts\":[],\"total...   \n",
       "1  {\"lastUserActivities\":[],\"blogPosts\":[],\"total...   \n",
       "2  {\"lastUserActivities\":[{\"time\":\"2025-02-28T19:...   \n",
       "3  {\"lastUserActivities\":[],\"blogPosts\":[],\"total...   \n",
       "4  {\"lastUserActivities\":[],\"blogPosts\":[],\"total...   \n",
       "\n",
       "                                                team  follower_amount  \\\n",
       "0                                           None yet                0   \n",
       "1                                               None                0   \n",
       "2                                               \\n\\t                0   \n",
       "3                                           None yet                0   \n",
       "4  We make custom models for specialized NLP appl...               23   \n",
       "\n",
       "                                       follower_meta  following_amount  \\\n",
       "0                                                 []                 0   \n",
       "1                                                 []                 0   \n",
       "2                                                 []                 1   \n",
       "3                                                 []                 0   \n",
       "4  [{'user': 'Mohamedelamoury', 'fullname': 'EL A...                 0   \n",
       "\n",
       "  following_meta                                             models  \\\n",
       "0             []  [{'author': 'ricardotalavera', 'authorData': {...   \n",
       "1             []  [{'author': 'Teetouch', 'authorData': {'_id': ...   \n",
       "2             []  [{'author': 'crossdelenna', 'authorData': {'_i...   \n",
       "3             []  [{'author': 'orestxherija', 'authorData': {'_i...   \n",
       "4             []  [{'author': 'nlptown', 'authorData': {'_id': '...   \n",
       "\n",
       "   models_count                                           datasets  \\\n",
       "0             4                                                 []   \n",
       "1             1                                                 []   \n",
       "2             9  [{'author': 'crossdelenna', 'downloads': 153, ...   \n",
       "3             2                                                 []   \n",
       "4             2                                                 []   \n",
       "\n",
       "   datasets_count                                        user_avatar user_pro  \\\n",
       "0               0  https://cdn-avatars.huggingface.co/v1/producti...    False   \n",
       "1               0      /avatars/d150cef7965877a88d7400c431c626d7.svg    False   \n",
       "2               5      /avatars/3fa94f159902cfaeed150ebf076d4c0a.svg    False   \n",
       "3               0      /avatars/4dcad2bb7c32b98a801fe7380116e947.svg    False   \n",
       "4               0  https://cdn-avatars.huggingface.co/v1/producti...    False   \n",
       "\n",
       "  orgs accept_languages  \n",
       "0   []             [en]  \n",
       "1   []             [en]  \n",
       "2   []             [en]  \n",
       "3   []             [en]  \n",
       "4   []             [en]  "
      ]
     },
     "execution_count": 18,
     "metadata": {},
     "output_type": "execute_result"
    }
   ],
   "source": [
    "# Models created by users\n",
    "df[\"models\"] = df[\"user_meta\"].parallel_apply(lambda x: json.loads(x)[\"models\"] if x else {})\n",
    "df[\"models_count\"] = df[\"models\"].parallel_apply(lambda x: len(x))\n",
    "\n",
    "# Datasets created by users\n",
    "df[\"datasets\"] = df[\"user_meta\"].parallel_apply(lambda x: json.loads(x)[\"datasets\"] if x else {})\n",
    "df[\"datasets_count\"] = df[\"datasets\"].parallel_apply(lambda x: len(x))\n",
    "\n",
    "# User information\n",
    "df[\"user_avatar\"] = df[\"user_meta\"].parallel_apply(lambda x: json.loads(x)[\"u\"][\"avatarUrl\"] if x else None)\n",
    "df[\"user_pro\"] = df[\"user_meta\"].parallel_apply(lambda x: json.loads(x)[\"u\"][\"isPro\"] if x else None)\n",
    "\n",
    "# User organizations\n",
    "df[\"orgs\"] = df[\"user_meta\"].parallel_apply(lambda x: json.loads(x)[\"u\"][\"orgs\"] if x else None)\n",
    "\n",
    "# User languages\n",
    "df[\"accept_languages\"] = df[\"user_meta\"].parallel_apply(lambda x: json.loads(x)[\"acceptLanguages\"] if x else None)\n",
    "df.to_csv(\"../data/process/user.info.tsv\", index=False, sep=\"\\t\")\n",
    "df.head(5)"
   ]
  }
 ],
 "metadata": {
  "kernelspec": {
   "display_name": "scrape",
   "language": "python",
   "name": "python3"
  },
  "language_info": {
   "codemirror_mode": {
    "name": "ipython",
    "version": 3
   },
   "file_extension": ".py",
   "mimetype": "text/x-python",
   "name": "python",
   "nbconvert_exporter": "python",
   "pygments_lexer": "ipython3",
   "version": "3.12.9"
  }
 },
 "nbformat": 4,
 "nbformat_minor": 2
}
