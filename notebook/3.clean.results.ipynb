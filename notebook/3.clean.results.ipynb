{
 "cells": [
  {
   "cell_type": "code",
   "execution_count": null,
   "metadata": {},
   "outputs": [],
   "source": [
    "from pkgman import include\n",
    "include([\"pandas\", \"polars\", \"rich\", \"tqdm\", \"requests\", \"matplotlib\", \"seaborn\", \"numpy\", \"igraph\", \"json\", \"pandarallel\"])\n",
    "\n",
    "pd = pandas\n",
    "pl = polars\n",
    "tqdm = tqdm\n",
    "rq = requests\n",
    "plt = matplotlib.pyplot\n",
    "sns = seaborn\n",
    "np = numpy\n",
    "pp = rich.print\n",
    "ig = igraph\n",
    "pdl = pandarallel.pandarallel\n",
    "pdl.initialize(progress_bar=True, nb_workers=8)"
   ]
  },
  {
   "cell_type": "code",
   "execution_count": null,
   "metadata": {},
   "outputs": [],
   "source": [
    "df_path = \"../data/result/users.all.jsonl\"\n",
    "df = pd.read_json(df_path, lines=True)\n",
    "df.head(5)"
   ]
  },
  {
   "cell_type": "code",
   "execution_count": null,
   "metadata": {},
   "outputs": [],
   "source": [
    "json.loads(df[\"user_meta\"][0])"
   ]
  },
  {
   "cell_type": "code",
   "execution_count": null,
   "metadata": {},
   "outputs": [],
   "source": [
    "# Models created by users\n",
    "df[\"models\"] = df[\"user_meta\"].parallel_apply(lambda x: json.loads(x)[\"models\"] if x else {})\n",
    "df[\"models_count\"] = df[\"models\"].parallel_apply(lambda x: len(x))\n",
    "\n",
    "# Datasets created by users\n",
    "df[\"datasets\"] = df[\"user_meta\"].parallel_apply(lambda x: json.loads(x)[\"datasets\"] if x else {})\n",
    "df[\"datasets_count\"] = df[\"datasets\"].parallel_apply(lambda x: len(x))\n",
    "\n",
    "# User information\n",
    "df[\"user_avatar\"] = df[\"user_meta\"].parallel_apply(lambda x: json.loads(x)[\"u\"][\"avatarUrl\"] if x else None)\n",
    "df[\"user_pro\"] = df[\"user_meta\"].parallel_apply(lambda x: json.loads(x)[\"u\"][\"isPro\"] if x else None)\n",
    "\n",
    "# User organizations\n",
    "df[\"orgs\"] = df[\"user_meta\"].parallel_apply(lambda x: json.loads(x)[\"u\"][\"orgs\"] if x else None)\n",
    "\n",
    "# User languages\n",
    "df[\"accept_languages\"] = df[\"user_meta\"].parallel_apply(lambda x: json.loads(x)[\"acceptLanguages\"] if x else None)\n",
    "df.to_csv(\"../data/process/user.info.tsv\", index=False, sep=\"\\t\")\n",
    "df.head(5)"
   ]
  }
 ],
 "metadata": {
  "kernelspec": {
   "display_name": "scrape",
   "language": "python",
   "name": "python3"
  },
  "language_info": {
   "codemirror_mode": {
    "name": "ipython",
    "version": 3
   },
   "file_extension": ".py",
   "mimetype": "text/x-python",
   "name": "python",
   "nbconvert_exporter": "python",
   "pygments_lexer": "ipython3",
   "version": "3.12.9"
  }
 },
 "nbformat": 4,
 "nbformat_minor": 2
}
