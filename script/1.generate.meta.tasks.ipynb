{
 "cells": [
  {
   "cell_type": "code",
   "execution_count": 5,
   "metadata": {},
   "outputs": [
    {
     "name": "stdout",
     "output_type": "stream",
     "text": [
      "[pkgman] Installing and importing ['pandas', 'polars', 'rich', 'tqdm', 'requests', 'matplotlib', 'seaborn', 'numpy']...\n",
      "[pkgman] 8 packages have been imported.\n"
     ]
    }
   ],
   "source": [
    "from pkgman import include\n",
    "include([\"pandas\", \"polars\", \"rich\", \"tqdm\", \"requests\", \"matplotlib\", \"seaborn\", \"numpy\"])\n",
    "\n",
    "pd = pandas\n",
    "pl = polars\n",
    "tqdm = tqdm\n",
    "rq = requests\n",
    "plt = matplotlib.pyplot\n",
    "sns = seaborn\n",
    "np = numpy\n",
    "pp = rich.print"
   ]
  },
  {
   "cell_type": "code",
   "execution_count": 2,
   "metadata": {},
   "outputs": [
    {
     "name": "stdout",
     "output_type": "stream",
     "text": [
      "Archive:  ../data/raw/huggingfacemodel.csv.zip\n",
      "  inflating: ../data/raw/huggingfacemodel.csv  \n"
     ]
    }
   ],
   "source": [
    "# unzip the data and read the csv file\n",
    "!unzip -o \"../data/raw/huggingfacemodel.csv.zip\" -d \"../data/raw/\""
   ]
  },
  {
   "cell_type": "code",
   "execution_count": 3,
   "metadata": {},
   "outputs": [
    {
     "data": {
      "text/html": [
       "<div><style>\n",
       ".dataframe > thead > tr,\n",
       ".dataframe > tbody > tr {\n",
       "  text-align: right;\n",
       "  white-space: pre-wrap;\n",
       "}\n",
       "</style>\n",
       "<small>shape: (5, 8)</small><table border=\"1\" class=\"dataframe\"><thead><tr><th>name</th><th>author</th><th>repolink</th><th>imageurl</th><th>category</th><th>stars</th><th>downloads</th><th>lastupdated</th></tr><tr><td>str</td><td>str</td><td>str</td><td>str</td><td>str</td><td>str</td><td>str</td><td>str</td></tr></thead><tbody><tr><td>&quot;stable-video-diffusion-img2vid…</td><td>&quot;stabilityai&quot;</td><td>&quot;https://huggingface.co/stabili…</td><td>&quot;https://aeiljuispo.cloudimg.io…</td><td>&quot;None&quot;</td><td>&quot;925&quot;</td><td>&quot;None&quot;</td><td>&quot;2023-11-28T18:22:00&quot;</td></tr><tr><td>&quot;stable-video-diffusion-img2vid&quot;</td><td>&quot;stabilityai&quot;</td><td>&quot;https://huggingface.co/stabili…</td><td>&quot;https://aeiljuispo.cloudimg.io…</td><td>&quot;None&quot;</td><td>&quot;314&quot;</td><td>&quot;None&quot;</td><td>&quot;2023-11-28T18:21:54&quot;</td></tr><tr><td>&quot;Orca-2-13b&quot;</td><td>&quot;microsoft&quot;</td><td>&quot;https://huggingface.co/microso…</td><td>&quot;https://aeiljuispo.cloudimg.io…</td><td>&quot;Text Generation&quot;</td><td>&quot;436&quot;</td><td>&quot;7.87k&quot;</td><td>&quot;2023-11-22T17:56:02&quot;</td></tr><tr><td>&quot;neural-chat-7b-v3-1&quot;</td><td>&quot;Intel&quot;</td><td>&quot;https://huggingface.co/Intel/n…</td><td>&quot;https://aeiljuispo.cloudimg.io…</td><td>&quot;Text Generation&quot;</td><td>&quot;334&quot;</td><td>&quot;17.1k&quot;</td><td>&quot;2023-11-29T02:41:42&quot;</td></tr><tr><td>&quot;whisper-large-v3&quot;</td><td>&quot;openai&quot;</td><td>&quot;https://huggingface.co/openai/…</td><td>&quot;https://aeiljuispo.cloudimg.io…</td><td>&quot;Automatic Speech Recognition&quot;</td><td>&quot;990&quot;</td><td>&quot;155k&quot;</td><td>&quot;2023-11-21T22:22:50&quot;</td></tr></tbody></table></div>"
      ],
      "text/plain": [
       "shape: (5, 8)\n",
       "┌─────────────┬────────────┬────────────┬────────────┬────────────┬───────┬───────────┬────────────┐\n",
       "│ name        ┆ author     ┆ repolink   ┆ imageurl   ┆ category   ┆ stars ┆ downloads ┆ lastupdate │\n",
       "│ ---         ┆ ---        ┆ ---        ┆ ---        ┆ ---        ┆ ---   ┆ ---       ┆ d          │\n",
       "│ str         ┆ str        ┆ str        ┆ str        ┆ str        ┆ str   ┆ str       ┆ ---        │\n",
       "│             ┆            ┆            ┆            ┆            ┆       ┆           ┆ str        │\n",
       "╞═════════════╪════════════╪════════════╪════════════╪════════════╪═══════╪═══════════╪════════════╡\n",
       "│ stable-vide ┆ stabilitya ┆ https://hu ┆ https://ae ┆ None       ┆ 925   ┆ None      ┆ 2023-11-28 │\n",
       "│ o-diffusion ┆ i          ┆ ggingface. ┆ iljuispo.c ┆            ┆       ┆           ┆ T18:22:00  │\n",
       "│ -img2vid…   ┆            ┆ co/stabili ┆ loudimg.io ┆            ┆       ┆           ┆            │\n",
       "│             ┆            ┆ …          ┆ …          ┆            ┆       ┆           ┆            │\n",
       "│ stable-vide ┆ stabilitya ┆ https://hu ┆ https://ae ┆ None       ┆ 314   ┆ None      ┆ 2023-11-28 │\n",
       "│ o-diffusion ┆ i          ┆ ggingface. ┆ iljuispo.c ┆            ┆       ┆           ┆ T18:21:54  │\n",
       "│ -img2vid    ┆            ┆ co/stabili ┆ loudimg.io ┆            ┆       ┆           ┆            │\n",
       "│             ┆            ┆ …          ┆ …          ┆            ┆       ┆           ┆            │\n",
       "│ Orca-2-13b  ┆ microsoft  ┆ https://hu ┆ https://ae ┆ Text       ┆ 436   ┆ 7.87k     ┆ 2023-11-22 │\n",
       "│             ┆            ┆ ggingface. ┆ iljuispo.c ┆ Generation ┆       ┆           ┆ T17:56:02  │\n",
       "│             ┆            ┆ co/microso ┆ loudimg.io ┆            ┆       ┆           ┆            │\n",
       "│             ┆            ┆ …          ┆ …          ┆            ┆       ┆           ┆            │\n",
       "│ neural-chat ┆ Intel      ┆ https://hu ┆ https://ae ┆ Text       ┆ 334   ┆ 17.1k     ┆ 2023-11-29 │\n",
       "│ -7b-v3-1    ┆            ┆ ggingface. ┆ iljuispo.c ┆ Generation ┆       ┆           ┆ T02:41:42  │\n",
       "│             ┆            ┆ co/Intel/n ┆ loudimg.io ┆            ┆       ┆           ┆            │\n",
       "│             ┆            ┆ …          ┆ …          ┆            ┆       ┆           ┆            │\n",
       "│ whisper-lar ┆ openai     ┆ https://hu ┆ https://ae ┆ Automatic  ┆ 990   ┆ 155k      ┆ 2023-11-21 │\n",
       "│ ge-v3       ┆            ┆ ggingface. ┆ iljuispo.c ┆ Speech Rec ┆       ┆           ┆ T22:22:50  │\n",
       "│             ┆            ┆ co/openai/ ┆ loudimg.io ┆ ognition   ┆       ┆           ┆            │\n",
       "│             ┆            ┆ …          ┆ …          ┆            ┆       ┆           ┆            │\n",
       "└─────────────┴────────────┴────────────┴────────────┴────────────┴───────┴───────────┴────────────┘"
      ]
     },
     "execution_count": 3,
     "metadata": {},
     "output_type": "execute_result"
    }
   ],
   "source": [
    "df = pl.read_csv(\"../data/raw/huggingfacemodel.csv\")\n",
    "df.head(5)"
   ]
  },
  {
   "cell_type": "code",
   "execution_count": 7,
   "metadata": {},
   "outputs": [
    {
     "data": {
      "text/html": [
       "<pre style=\"white-space:pre;overflow-x:auto;line-height:normal;font-family:Menlo,'DejaVu Sans Mono',consolas,'Courier New',monospace\">Total number of models: <span style=\"color: #008080; text-decoration-color: #008080; font-weight: bold\">200925</span>\n",
       "</pre>\n"
      ],
      "text/plain": [
       "Total number of models: \u001b[1;36m200925\u001b[0m\n"
      ]
     },
     "metadata": {},
     "output_type": "display_data"
    },
    {
     "data": {
      "text/html": [
       "<pre style=\"white-space:pre;overflow-x:auto;line-height:normal;font-family:Menlo,'DejaVu Sans Mono',consolas,'Courier New',monospace\">Total number of users: <span style=\"color: #008080; text-decoration-color: #008080; font-weight: bold\">61878</span>\n",
       "</pre>\n"
      ],
      "text/plain": [
       "Total number of users: \u001b[1;36m61878\u001b[0m\n"
      ]
     },
     "metadata": {},
     "output_type": "display_data"
    }
   ],
   "source": [
    "base_url = \"https://huggingface.co/user/\"\n",
    "user_names = df[\"author\"].unique().to_list()\n",
    "user_names = [x for x in user_names if x is not None]\n",
    "user_names = [x for x in user_names if x != \"None\"]\n",
    "user_names = [x for x in user_names if x != \"\"]\n",
    "pp(f\"Total number of models: {len(df)}\")\n",
    "pp(f\"Total number of users: {len(user_names)}\")"
   ]
  },
  {
   "cell_type": "code",
   "execution_count": 9,
   "metadata": {},
   "outputs": [
    {
     "data": {
      "application/vnd.microsoft.datawrangler.viewer.v0+json": {
       "columns": [
        {
         "name": "index",
         "rawType": "int64",
         "type": "integer"
        },
        {
         "name": "user",
         "rawType": "object",
         "type": "string"
        },
        {
         "name": "url",
         "rawType": "object",
         "type": "string"
        }
       ],
       "conversionMethod": "pd.DataFrame",
       "ref": "530a1c28-3893-47e3-9ffe-9cf99ded5f6a",
       "rows": [
        [
         "0",
         "aman2304",
         "https://huggingface.co/user/aman2304"
        ],
        [
         "1",
         "anonymous-german-nlp",
         "https://huggingface.co/user/anonymous-german-nlp"
        ],
        [
         "2",
         "jinlmsft",
         "https://huggingface.co/user/jinlmsft"
        ],
        [
         "3",
         "ltorrick",
         "https://huggingface.co/user/ltorrick"
        ],
        [
         "4",
         "LDD",
         "https://huggingface.co/user/LDD"
        ]
       ],
       "shape": {
        "columns": 2,
        "rows": 5
       }
      },
      "text/html": [
       "<div>\n",
       "<style scoped>\n",
       "    .dataframe tbody tr th:only-of-type {\n",
       "        vertical-align: middle;\n",
       "    }\n",
       "\n",
       "    .dataframe tbody tr th {\n",
       "        vertical-align: top;\n",
       "    }\n",
       "\n",
       "    .dataframe thead th {\n",
       "        text-align: right;\n",
       "    }\n",
       "</style>\n",
       "<table border=\"1\" class=\"dataframe\">\n",
       "  <thead>\n",
       "    <tr style=\"text-align: right;\">\n",
       "      <th></th>\n",
       "      <th>user</th>\n",
       "      <th>url</th>\n",
       "    </tr>\n",
       "  </thead>\n",
       "  <tbody>\n",
       "    <tr>\n",
       "      <th>0</th>\n",
       "      <td>aman2304</td>\n",
       "      <td>https://huggingface.co/user/aman2304</td>\n",
       "    </tr>\n",
       "    <tr>\n",
       "      <th>1</th>\n",
       "      <td>anonymous-german-nlp</td>\n",
       "      <td>https://huggingface.co/user/anonymous-german-nlp</td>\n",
       "    </tr>\n",
       "    <tr>\n",
       "      <th>2</th>\n",
       "      <td>jinlmsft</td>\n",
       "      <td>https://huggingface.co/user/jinlmsft</td>\n",
       "    </tr>\n",
       "    <tr>\n",
       "      <th>3</th>\n",
       "      <td>ltorrick</td>\n",
       "      <td>https://huggingface.co/user/ltorrick</td>\n",
       "    </tr>\n",
       "    <tr>\n",
       "      <th>4</th>\n",
       "      <td>LDD</td>\n",
       "      <td>https://huggingface.co/user/LDD</td>\n",
       "    </tr>\n",
       "  </tbody>\n",
       "</table>\n",
       "</div>"
      ],
      "text/plain": [
       "                   user                                               url\n",
       "0              aman2304              https://huggingface.co/user/aman2304\n",
       "1  anonymous-german-nlp  https://huggingface.co/user/anonymous-german-nlp\n",
       "2              jinlmsft              https://huggingface.co/user/jinlmsft\n",
       "3              ltorrick              https://huggingface.co/user/ltorrick\n",
       "4                   LDD                   https://huggingface.co/user/LDD"
      ]
     },
     "execution_count": 9,
     "metadata": {},
     "output_type": "execute_result"
    }
   ],
   "source": [
    "df_users_path = \"../data/task/huggingface_users.csv\"\n",
    "df_users = pd.DataFrame(user_names, columns=[\"user\"])\n",
    "df_users[\"url\"] = base_url + df_users[\"user\"]\n",
    "df_users.to_csv(df_users_path, index=False)\n",
    "df_users.head(5)"
   ]
  },
  {
   "cell_type": "code",
   "execution_count": null,
   "metadata": {},
   "outputs": [],
   "source": []
  }
 ],
 "metadata": {
  "kernelspec": {
   "display_name": "scrape",
   "language": "python",
   "name": "python3"
  },
  "language_info": {
   "codemirror_mode": {
    "name": "ipython",
    "version": 3
   },
   "file_extension": ".py",
   "mimetype": "text/x-python",
   "name": "python",
   "nbconvert_exporter": "python",
   "pygments_lexer": "ipython3",
   "version": "3.12.9"
  }
 },
 "nbformat": 4,
 "nbformat_minor": 2
}
